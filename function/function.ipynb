{
 "cells": [
  {
   "cell_type": "markdown",
   "metadata": {
    "pycharm": {
     "name": "#%% md\n"
    }
   },
   "source": [
    "## 函数\n",
    "\n",
    "Python中的函数是代码复用的重要工具，它允许你将一段逻辑封装起来，并在需要时多次调用。函数在Python中被广泛使用，理解其用法和技巧对于编写高效、可读的代码至关重要。下面是对Python函数的详细介绍及一些技巧。\n",
    "\n",
    "### 1. 函数的定义与调用\n",
    "\n",
    "在Python中，使用def关键字来定义函数。函数可以有参数，并且可以返回值。"
   ]
  },
  {
   "cell_type": "code",
   "execution_count": 3,
   "metadata": {
    "pycharm": {
     "name": "#%%\n"
    }
   },
   "outputs": [
    {
     "name": "stdout",
     "output_type": "stream",
     "text": [
      "Hello, hud!\n"
     ]
    }
   ],
   "source": [
    "def greet(name):\n",
    "    return f\"Hello, {name}!\"\n",
    "\n",
    "# 调用函数\n",
    "message = greet(\"hud\")\n",
    "print(message)  # 输出: Hello, hud!"
   ]
  },
  {
   "cell_type": "markdown",
   "metadata": {
    "pycharm": {
     "name": "#%% md\n"
    }
   },
   "source": [
    "### 2. 函数参数\n",
    "#### 2.1 位置参数\n",
    "\n",
    "位置参数是最常见的参数类型，调用时根据参数的顺序传递。"
   ]
  },
  {
   "cell_type": "code",
   "execution_count": 5,
   "metadata": {
    "pycharm": {
     "name": "#%%\n"
    }
   },
   "outputs": [
    {
     "name": "stdout",
     "output_type": "stream",
     "text": [
      "8\n"
     ]
    }
   ],
   "source": [
    "def add(x, y):\n",
    "    return x + y\n",
    "\n",
    "result = add(3, 5)  # 传递 3 和 5 到 x 和 y\n",
    "print(result)"
   ]
  },
  {
   "cell_type": "markdown",
   "metadata": {
    "pycharm": {
     "name": "#%% md\n"
    }
   },
   "source": [
    "#### 2.2 关键字参数\n",
    "\n",
    "关键字参数在调用函数时明确指定参数的名称，使代码更加清晰。"
   ]
  },
  {
   "cell_type": "code",
   "execution_count": 6,
   "metadata": {
    "pycharm": {
     "name": "#%%\n"
    }
   },
   "outputs": [],
   "source": [
    "result = add(x=3, y=5)  # 关键字参数"
   ]
  },
  {
   "cell_type": "markdown",
   "metadata": {
    "pycharm": {
     "name": "#%% md\n"
    }
   },
   "source": [
    "#### 2.3 默认参数\n",
    "\n",
    "默认参数允许你为参数提供默认值，在调用时可以选择性地省略该参数。"
   ]
  },
  {
   "cell_type": "code",
   "execution_count": 7,
   "metadata": {
    "pycharm": {
     "name": "#%%\n"
    }
   },
   "outputs": [
    {
     "name": "stdout",
     "output_type": "stream",
     "text": [
      "Hello, Alice!\n",
      "Hi, Bob!\n"
     ]
    }
   ],
   "source": [
    "def greet(name, greeting=\"Hello\"):\n",
    "    return f\"{greeting}, {name}!\"\n",
    "\n",
    "print(greet(\"Alice\"))           # 输出: Hello, Alice!\n",
    "print(greet(\"Bob\", \"Hi\"))       # 输出: Hi, Bob!"
   ]
  },
  {
   "cell_type": "markdown",
   "metadata": {
    "pycharm": {
     "name": "#%% md\n"
    }
   },
   "source": [
    "#### 2.4 可变参数\n",
    "\n",
    "可变参数允许你传递任意数量的参数到函数中。\n",
    "\n",
    "- `*args`：用于接收任意数量的位置参数。\n",
    "\n",
    "- `**kwargs`：用于接收任意数量的关键字参数。\n",
    " \n",
    "  - 在Python中，**kwargs是一个用于接收任意数量关键字参数的机制。它允许你编写能够处理不定数量参数的函数，使函数更具灵活性。"
   ]
  },
  {
   "cell_type": "code",
   "execution_count": 9,
   "metadata": {
    "pycharm": {
     "name": "#%%\n"
    }
   },
   "outputs": [
    {
     "name": "stdout",
     "output_type": "stream",
     "text": [
      "15\n"
     ]
    }
   ],
   "source": [
    "def add(*args):\n",
    "    return sum(args)\n",
    "print(add(1,2,3,4,5))"
   ]
  },
  {
   "cell_type": "markdown",
   "metadata": {
    "pycharm": {
     "name": "#%% md\n"
    }
   },
   "source": [
    "##### 2.4.1 基本用法\n",
    "**kwargs会将传递给函数的所有关键字参数以字典的形式捕获，字典的键为参数名，值为对应的参数值。"
   ]
  },
  {
   "cell_type": "code",
   "execution_count": 10,
   "metadata": {
    "pycharm": {
     "name": "#%%\n"
    }
   },
   "outputs": [
    {
     "name": "stdout",
     "output_type": "stream",
     "text": [
      "{'name': 'Alice', 'age': 30, 'city': 'New York'}\n"
     ]
    }
   ],
   "source": [
    "def print_info(**kwargs):\n",
    "    print(kwargs)\n",
    "\n",
    "print_info(name=\"Alice\", age=30, city=\"New York\")"
   ]
  },
  {
   "cell_type": "markdown",
   "metadata": {
    "pycharm": {
     "name": "#%% md\n"
    }
   },
   "source": [
    "##### 2.4.2 访问和使用 `**kwargs`\n",
    "\n",
    "你可以像访问字典一样访问kwargs中的数据："
   ]
  },
  {
   "cell_type": "code",
   "execution_count": 11,
   "metadata": {
    "pycharm": {
     "name": "#%%\n"
    }
   },
   "outputs": [
    {
     "name": "stdout",
     "output_type": "stream",
     "text": [
      "Name: Alice\n",
      "Age: 30\n",
      "City: New York\n"
     ]
    }
   ],
   "source": [
    "def print_info(**kwargs):\n",
    "    if 'name' in kwargs:\n",
    "        print(f\"Name: {kwargs['name']}\")\n",
    "    if 'age' in kwargs:\n",
    "        print(f\"Age: {kwargs['age']}\")\n",
    "    if 'city' in kwargs:\n",
    "        print(f\"City: {kwargs['city']}\")\n",
    "\n",
    "print_info(name=\"Alice\", age=30, city=\"New York\")"
   ]
  },
  {
   "cell_type": "markdown",
   "metadata": {
    "pycharm": {
     "name": "#%% md\n"
    }
   },
   "source": [
    "##### 2.4.3 默认参数与 **kwargs 结合使用\n",
    "\n",
    "你可以将**kwargs与其他参数（如位置参数、默认参数）结合使用，以便函数既能接收固定参数，又能灵活处理额外的关键字参数。"
   ]
  },
  {
   "cell_type": "code",
   "execution_count": 12,
   "metadata": {
    "pycharm": {
     "name": "#%%\n"
    }
   },
   "outputs": [
    {
     "name": "stdout",
     "output_type": "stream",
     "text": [
      "Hello,You motherfucker\n"
     ]
    }
   ],
   "source": [
    "def greet(greeting:str,**kwargs):\n",
    "    name = kwargs.get('name','Guest')\n",
    "    print(f\"{greeting},{name}\")\n",
    "\n",
    "greet(\"Hello\",name='You motherfucker')"
   ]
  },
  {
   "cell_type": "markdown",
   "metadata": {
    "pycharm": {
     "name": "#%% md\n"
    }
   },
   "source": [
    "##### 2.4.4 与 *args 结合使用\n",
    "\n",
    "你可以同时使用*args和**kwargs，这样函数既能接收不定数量的位置参数，也能接收不定数量的关键字参数。 "
   ]
  },
  {
   "cell_type": "code",
   "execution_count": 14,
   "metadata": {
    "pycharm": {
     "name": "#%%\n"
    }
   },
   "outputs": [
    {
     "name": "stdout",
     "output_type": "stream",
     "text": [
      "args: (1, 2, 3)\n",
      "kwargs: {'name': 'Alice', 'age': 30, 'job': 'bitch'}\n"
     ]
    }
   ],
   "source": [
    "def example_function(*args, **kwargs):\n",
    "    print(\"args:\", args)\n",
    "    print(\"kwargs:\", kwargs)\n",
    "\n",
    "example_function(1, 2, 3, name=\"Alice\", age=30,job='bitch')\n"
   ]
  },
  {
   "cell_type": "markdown",
   "metadata": {
    "pycharm": {
     "name": "#%% md\n"
    }
   },
   "source": [
    "##### 2.4.5 使用 **kwargs 传递参数\n",
    "\n",
    "`**kwargs`不仅可以接收参数，还可以用来将一个字典解包为关键字参数传递给函数,在这个例子中，`**info`会将字典info解包为关键字参数，传递给print_info函数"
   ]
  },
  {
   "cell_type": "code",
   "execution_count": 16,
   "metadata": {
    "pycharm": {
     "name": "#%%\n"
    }
   },
   "outputs": [
    {
     "name": "stdout",
     "output_type": "stream",
     "text": [
      "Name: Alice, Age: 30, City: New York\n"
     ]
    }
   ],
   "source": [
    "def print_info(name, age, city):\n",
    "    print(f\"Name: {name}, Age: {age}, City: {city}\")\n",
    "\n",
    "info = {'name': 'Alice', 'age': 30, 'city': 'New York'}\n",
    "print_info(**info)"
   ]
  },
  {
   "cell_type": "markdown",
   "metadata": {
    "pycharm": {
     "name": "#%% md\n"
    }
   },
   "source": [
    "### 3. 函数的返回值\n",
    "\n",
    "函数使用return语句返回一个值，如果不使用return，函数会返回None。"
   ]
  },
  {
   "cell_type": "code",
   "execution_count": 17,
   "metadata": {
    "pycharm": {
     "name": "#%%\n"
    }
   },
   "outputs": [
    {
     "name": "stdout",
     "output_type": "stream",
     "text": [
      "16\n"
     ]
    }
   ],
   "source": [
    "def square(x):\n",
    "    return x * x\n",
    "\n",
    "print(square(4))"
   ]
  },
  {
   "cell_type": "markdown",
   "metadata": {
    "pycharm": {
     "name": "#%% md\n"
    }
   },
   "source": [
    "### 4.函数的文档字符串（Docstring）\n",
    "\n",
    "文档字符串是用于描述函数功能的字符串，通常用于帮助函数的使用者理解函数的用途。"
   ]
  },
  {
   "cell_type": "code",
   "execution_count": 19,
   "metadata": {
    "pycharm": {
     "name": "#%%\n"
    }
   },
   "outputs": [
    {
     "name": "stdout",
     "output_type": "stream",
     "text": [
      "Hello, Bitch!\n",
      "Here is the greeting,you motherfucker\n"
     ]
    }
   ],
   "source": [
    "def greet(name):\n",
    "    \"\"\"Here is the greeting,you mother`fucker\"\"\"\n",
    "    return f\"Hello, {name}!\"\n",
    "\n",
    "print(greet(\"Bitch\"))\n",
    "print(greet.__doc__)  # 输出: 返回一个问候语\n"
   ]
  },
  {
   "cell_type": "markdown",
   "metadata": {
    "pycharm": {
     "name": "#%% md\n"
    }
   },
   "source": [
    "### 5. 函数的嵌套和闭包\n",
    "\n",
    "你可以在函数内部定义另一个函数，内部函数可以访问外部函数的变量，这就是闭包的基础。"
   ]
  },
  {
   "cell_type": "code",
   "execution_count": 22,
   "metadata": {
    "pycharm": {
     "name": "#%%\n"
    }
   },
   "outputs": [
    {
     "name": "stdout",
     "output_type": "stream",
     "text": [
      "Hello, World!shit!\n"
     ]
    }
   ],
   "source": [
    "def outer_function(text):\n",
    "    def inner_function():\n",
    "        return text+'shit!'\n",
    "    return inner_function\n",
    "\n",
    "closure = outer_function(\"Hello, World!\")\n",
    "print(closure())  # 输出: Hello, World!\n"
   ]
  },
  {
   "cell_type": "markdown",
   "metadata": {
    "pycharm": {
     "name": "#%% md\n"
    }
   },
   "source": [
    "### 6. Lambda 表达式\n",
    "\n",
    "Lambda表达式是一种简写的匿名函数，通常用于简单的操作。"
   ]
  },
  {
   "cell_type": "code",
   "execution_count": 24,
   "metadata": {
    "pycharm": {
     "name": "#%%\n"
    }
   },
   "outputs": [
    {
     "name": "stdout",
     "output_type": "stream",
     "text": [
      "25\n",
      "[(5, -1), (3, 1), (1, 2)]\n"
     ]
    }
   ],
   "source": [
    "square = lambda x: x * x\n",
    "print(square(5))  # 输出: 25\\\n",
    "\n",
    "\n",
    "# 在排序中使用lambda\n",
    "points = [(1, 2), (3, 1), (5, -1)]\n",
    "points.sort(key=lambda x: x[1])\n",
    "print(points)  # 输出: [(5, -1), (3, 1), (1, 2)]"
   ]
  },
  {
   "cell_type": "markdown",
   "metadata": {
    "pycharm": {
     "name": "#%% md\n"
    }
   },
   "source": [
    "### 7. 函数装饰器\n",
    "\n",
    "装饰器是高阶函数，它接受另一个函数作为参数并返回一个新的函数，通常用于修改或增强函数的行为。\n",
    "\n",
    "#### 7.1 装饰器的基本概念\n",
    "\n",
    "一个简单的装饰器函数接受一个函数作为输入，并返回一个新的函数。这个新函数可以在调用原函数前后添加新的行为。"
   ]
  },
  {
   "cell_type": "code",
   "execution_count": 26,
   "metadata": {
    "pycharm": {
     "name": "#%%\n"
    }
   },
   "outputs": [],
   "source": [
    "def decorator_function(original_function):\n",
    "    def wrapper_function(*args, **kwargs):\n",
    "        print(f\"Wrapper executed before {original_function.__name__}\")\n",
    "        return original_function(*args, **kwargs)\n",
    "    return wrapper_function"
   ]
  },
  {
   "cell_type": "markdown",
   "metadata": {
    "pycharm": {
     "name": "#%% md\n"
    }
   },
   "source": [
    "#### 7.2 使用装饰器\n",
    "装饰器通过在函数定义前加上@decorator_name来应用。下面是一个应用装饰器的例子：\n",
    "\n",
    "这里，@decorator_function相当于display = decorator_function(display)。"
   ]
  },
  {
   "cell_type": "code",
   "execution_count": 27,
   "metadata": {
    "pycharm": {
     "name": "#%%\n"
    }
   },
   "outputs": [
    {
     "name": "stdout",
     "output_type": "stream",
     "text": [
      "Wrapper executed before display\n",
      "Display function ran\n"
     ]
    }
   ],
   "source": [
    "@decorator_function\n",
    "def display():\n",
    "    print(\"Display function ran\")\n",
    "\n",
    "display()"
   ]
  },
  {
   "cell_type": "markdown",
   "metadata": {
    "pycharm": {
     "name": "#%% md\n"
    }
   },
   "source": [
    "#### 7.3带参数的装饰器\n",
    "装饰器不仅可以不带参数，还可以带有参数。带参数的装饰器实际上是一个返回装饰器的工厂函数。\n",
    "\n",
    "1. 装饰器函数的调用顺序\n",
    "    - 首先，解释装饰器的应用过程。装饰器@decorator_with_args(\"LOG:\")实际上会在函数定义时（而不是调用时）立即执行：\n",
    "\n",
    "    - @decorator_with_args(\"LOG:\") 被执行，这会调用 decorator_with_args 函数，并将参数 \"LOG:\" 传递给它。\n",
    "  \n",
    "    - decorator_with_args(\"LOG:\") 返回 decorator_function，这个函数本身是一个装饰器，它接收原函数 display 作为参数。\n",
    "\n",
    "    - 因此，display = decorator_function(display)，此时，display 函数被替换为 wrapper_function，而 wrapper_function 内部封装了原来的 display 函数。\n",
    "\n",
    "2. 调用 display() 的执行顺序\n",
    "\n",
    "    - 当你调用 display() 时，以下步骤按顺序执行：\n",
    "\n",
    "    - 进入 wrapper_function：display() 实际上调用的是 wrapper_function，因为它被装饰器替换了。wrapper_function接收所有传递给display()的参数。\n",
    "\n",
    "    - 打印日志：在 wrapper_function 中，首先执行 print(f\"{prefix} Wrapper executed before {original_function.__name__}\")，输出 LOG: Wrapper executed before display。\n",
    "\n",
    "    - 调用原始函数：然后，wrapper_function 调用 original_function(*args, **kwargs)，也就是原始的 display() 函数。此时，display 的内容会被执行，打印 Display function ran。\n",
    "\n",
    "    - 返回值传递：如果原始函数有返回值，wrapper_function 会将这个返回值返回给调用者。在这个例子中，display() 没有返回值，所以最终返回 None。\n",
    "\n",
    "3. 总结：因此，执行display()时的顺序如下：\n",
    "\n",
    "    - 调用 wrapper_function（由装饰器替换后的 display）。\n",
    "\n",
    "    - 打印 LOG: Wrapper executed before display。\n",
    "\n",
    "    - 执行原始的 display 函数，打印 Display function ran。\n",
    "    \n",
    "    - 返回 None（因为 display 没有返回值）"
   ]
  },
  {
   "cell_type": "code",
   "execution_count": 1,
   "metadata": {
    "collapsed": false,
    "pycharm": {
     "name": "#%%\n"
    }
   },
   "outputs": [
    {
     "name": "stdout",
     "output_type": "stream",
     "text": [
      "LOG: Wrapper executed before display\n",
      "Display function ran\n"
     ]
    }
   ],
   "source": [
    "def decorator_with_args(prefix):\n",
    "    def decorator_function(original_function):\n",
    "        def wrapper_function(*args, **kwargs):\n",
    "            print(f\"{prefix} Wrapper executed before {original_function.__name__}\")\n",
    "            return original_function(*args, **kwargs)\n",
    "        return wrapper_function\n",
    "    return decorator_function\n",
    "\n",
    "@decorator_with_args(\"LOG:\")\n",
    "def display():\n",
    "    print(\"Display function ran\")\n",
    "\n",
    "display() # LOG:Wrapper executed before\n"
   ]
  },
  {
   "cell_type": "markdown",
   "metadata": {
    "collapsed": false,
    "pycharm": {
     "name": "#%% md\n"
    }
   },
   "source": [
    "在python中，函数是一等对象，意味着我们可以将函数作为参数传递到函数中\n",
    "\n",
    "**装饰器的本质是一个函数，他会接受函数作为参数，在自己内部根据这个传入的函数定义一个新的函数，\n",
    "新的函数在包含传入函数功能的同时，扩充了其他的功能，然后装饰器将新函数返回。\n",
    "我们就可以在代码里使用这个返回的新函数替代原来的传入函数**"
   ]
  },
  {
   "cell_type": "code",
   "execution_count": 2,
   "metadata": {
    "collapsed": false,
    "pycharm": {
     "name": "#%%\n"
    }
   },
   "outputs": [
    {
     "name": "stdout",
     "output_type": "stream",
     "text": [
      "square is running\n",
      "4\n",
      "None\n"
     ]
    }
   ],
   "source": [
    "def square(x):\n",
    "    return x * x\n",
    "\n",
    "def print_running(f,x):\n",
    "    print(f'{f.__name__} is running')\n",
    "    print(f(x))\n",
    "\n",
    "result = print_running(square,2)\n",
    "print(result)"
   ]
  },
  {
   "cell_type": "code",
   "execution_count": null,
   "outputs": [],
   "source": [
    "import time\n",
    "\n",
    "def square(x):\n",
    "    return x * x\n",
    "\n",
    "def decorator(func):\n",
    "    def wrapper_function(*args,**kwargs):\n",
    "        start_time = time.time()\n",
    "        # wrapper应该可以运行本来func的功能\n",
    "        result = func(*args,**kwargs)\n",
    "        end_time = time.time()\n",
    "        print(f'{func.__name__} exection time :{end_time-start_time} seconds')\n",
    "        return result\n",
    "    return wrapper_function\n",
    "\n",
    "# 我们可以直接将需要装饰的函数传给装饰器\n",
    "decorator_square = decorator(square) # decorator_square现在就是一个装饰后的square\n",
    "decorator_square(10)"
   ],
   "metadata": {
    "collapsed": false,
    "pycharm": {
     "name": "#%%\n"
    }
   }
  },
  {
   "cell_type": "code",
   "execution_count": null,
   "outputs": [],
   "source": [
    "# 装饰后的函数是用来代替原本的函数 因此更加直接的做法是用原来的变量名\n",
    "# square = decorator(square)\n",
    "# square(10)\n",
    "\n",
    "# 更为简单的方法是给函数定义带一个帽子\n",
    "@decorator\n",
    "def square(x):\n",
    "    return x*x\n",
    "square(10)"
   ],
   "metadata": {
    "collapsed": false,
    "pycharm": {
     "name": "#%%\n"
    }
   }
  },
  {
   "cell_type": "markdown",
   "source": [
    "我们不需要定义多个装饰器，我们可以定义一个定义装饰器的函数（装饰器生成器）\n",
    "装饰器生成器会根据参数生成不同的装饰器\n",
    "\n",
    "例如我们定义一个装饰器生成器为timer，需要参数：阈值"
   ],
   "metadata": {
    "collapsed": false,
    "pycharm": {
     "name": "#%% md\n"
    }
   }
  },
  {
   "cell_type": "code",
   "execution_count": null,
   "outputs": [],
   "source": [
    "def timer(threshold):\n",
    "    def decorator(func): #在这里定义一个装饰器 需要一个函数作为参数\n",
    "        def wrapper(*args,**kwargs):\n",
    "            start_time = time.time()\n",
    "            result = func(*args,**kwargs)\n",
    "            end_time = time.time()\n",
    "            if end_time-start_time >threshold:\n",
    "                print(f'{func.__name__} took longer than {threshold} seconds')\n",
    "            return result \n",
    "        return wrapper\n",
    "    return decorator\n",
    "\n",
    "@timer(0.2)\n",
    "def sleep_04():\n",
    "    time.sleep(0.4)\n",
    "\n",
    "# timer是一个会返回装饰器的函数 timer(0.2)是一个装饰器\n",
    "sleep_04 = timer(0.2)(sleep_04)   # 将sleep_04这个函数传给装饰器来达到装饰的目的\n",
    "\n",
    "sleep_04()\n"
   ],
   "metadata": {
    "collapsed": false,
    "pycharm": {
     "name": "#%%\n"
    }
   }
  },
  {
   "cell_type": "code",
   "execution_count": null,
   "outputs": [],
   "source": [
    "# 装饰器后返回的是在装饰器里面定义的wrapper用于代替原来的func\n",
    "# wrapper可以继承func的属性的(NAME等)\n",
    "sleep_04.__name__"
   ],
   "metadata": {
    "collapsed": false,
    "pycharm": {
     "name": "#%%\n"
    }
   }
  },
  {
   "cell_type": "code",
   "execution_count": null,
   "outputs": [],
   "source": [
    "import functools\n",
    "\n",
    "# 为此 我们可以在这里面增加一行：\n",
    "def timer(threshold):\n",
    "    def decorator(func): #在这里定义一个装饰器 需要一个函数作为参数\n",
    "        # 这是在python中已经定义好的装饰器\n",
    "        @functools.wraps(func)\n",
    "        def wrapper(*args,**kwargs):\n",
    "            start_time = time.time()\n",
    "            result = func(*args,**kwargs)\n",
    "            end_time = time.time()\n",
    "            if end_time-start_time >threshold:\n",
    "                print(f'{func.__name__} took longer than {threshold} seconds')\n",
    "            return result \n",
    "        return wrapper\n",
    "    return decorator\n",
    "\n",
    "@timer(0.2)\n",
    "def sleep_04():\n",
    "    time.sleep(0.4)\n",
    "\n",
    "sleep_04()\n",
    "print(sleep_04.__name__)"
   ],
   "metadata": {
    "collapsed": false,
    "pycharm": {
     "name": "#%%\n"
    }
   }
  },
  {
   "cell_type": "markdown",
   "source": [
    "### 为什么要使用装饰器\n",
    "\n",
    "1. 使用装饰器可以提升代码复用，避免重复冗余代码。如果我又多个函数需要测量执行时间，我们可以直接将装饰器应用在这些函数上面，而不是给多个函数加上一样的代码，这样的代码不仅冗余且不方便后面的维护。\n",
    "\n",
    "2. 使用装饰器可以保证代码的逻辑清晰，如果一个本身功能就很复杂的函数，我们还需要通过修改内部代码来测量运行时间，这样会模糊函数自身的主逻辑，同时，软件开发的一个原则就是单一职责，即一个函数应该承担一项责任。\n",
    "\n",
    "3. 通过装饰器，我们可以扩展别人的函数，想想我们正在使用一个第三方库的函数，但我们要添加额外的行为，比如测量运行时间，那我们就可以用装饰器去包装，而不是跑到函数里面去修改"
   ],
   "metadata": {
    "collapsed": false,
    "pycharm": {
     "name": "#%% md\n"
    }
   }
  },
  {
   "cell_type": "markdown",
   "source": [
    "#### 7.4 多个装饰器\n",
    "\n",
    "你可以同时应用多个装饰器，装饰器的执行顺序从内到外（从最接近函数定义的装饰器开始）。"
   ],
   "metadata": {
    "collapsed": false,
    "pycharm": {
     "name": "#%% md\n"
    }
   }
  },
  {
   "cell_type": "code",
   "execution_count": null,
   "outputs": [],
   "source": [
    "@decorator_one\n",
    "@decorator_two\n",
    "def display():\n",
    "    print(\"Display function ran\")\n",
    "\n",
    "# 相当于\n",
    "display = decorator_one(decorator_two(display))"
   ],
   "metadata": {
    "collapsed": false,
    "pycharm": {
     "name": "#%%\n"
    }
   }
  },
  {
   "cell_type": "markdown",
   "source": [
    "#### 7.5 保留原函数的元数据\n",
    "\n",
    "在上面已经提到了，装饰器会覆盖原函数的元数据，如函数名、文档字符串。为了解决这个问题，可以使用functools模块中的@wraps装饰器。"
   ],
   "metadata": {
    "collapsed": false,
    "pycharm": {
     "name": "#%% md\n"
    }
   }
  },
  {
   "cell_type": "code",
   "execution_count": null,
   "outputs": [],
   "source": [
    "from functools import wraps\n",
    "\n",
    "def decorator_function(original_function):\n",
    "    @functools.wraps(original_function)\n",
    "    def wrapper_function(*args, **kwargs):\n",
    "        print(f\"Wrapper executed before {original_function.__name__}\")\n",
    "        return original_function(*args, **kwargs)\n",
    "    return wrapper_function"
   ],
   "metadata": {
    "collapsed": false,
    "pycharm": {
     "name": "#%%\n"
    }
   }
  },
  {
   "cell_type": "markdown",
   "source": [
    "#### 7.6 装饰器的应用场景\n",
    "\n",
    "##### 7.6.1 日志记录：记录函数的执行情况"
   ],
   "metadata": {
    "collapsed": false,
    "pycharm": {
     "name": "#%% md\n"
    }
   }
  },
  {
   "cell_type": "code",
   "execution_count": null,
   "outputs": [],
   "source": [
    "def log_decorator(func):\n",
    "    @wraps(func)\n",
    "    def wrapper(*args, **kwargs):\n",
    "        print(f\"Calling {func.__name__} with {args} and {kwargs}\")\n",
    "        return func(*args, **kwargs)\n",
    "    return wrapper\n"
   ],
   "metadata": {
    "collapsed": false,
    "pycharm": {
     "name": "#%%\n"
    }
   }
  },
  {
   "cell_type": "markdown",
   "source": [
    "##### 7.6.2 权限检查：在函数执行前进行权限检查。"
   ],
   "metadata": {
    "collapsed": false,
    "pycharm": {
     "name": "#%% md\n"
    }
   }
  },
  {
   "cell_type": "code",
   "execution_count": null,
   "outputs": [],
   "source": [
    "def requires_permission(permission):\n",
    "    def decorator(func):\n",
    "        @wraps(func)\n",
    "        def wrapper(*args, **kwargs):\n",
    "            if not has_permission(permission):\n",
    "                raise PermissionError(f\"Permission {permission} required\")\n",
    "            return func(*args, **kwargs)\n",
    "        return wrapper\n",
    "    return decorator\n"
   ],
   "metadata": {
    "collapsed": false,
    "pycharm": {
     "name": "#%%\n"
    }
   }
  },
  {
   "cell_type": "markdown",
   "source": [
    "##### 7.6.3 性能计时：测量函数执行的时间。"
   ],
   "metadata": {
    "collapsed": false,
    "pycharm": {
     "name": "#%% md\n"
    }
   }
  },
  {
   "cell_type": "code",
   "execution_count": null,
   "outputs": [],
   "source": [
    "import time\n",
    "\n",
    "def timer_decorator(func):\n",
    "    @wraps(func)\n",
    "    def wrapper(*args, **kwargs):\n",
    "        start_time = time.time()\n",
    "        result = func(*args, **kwargs)\n",
    "        end_time = time.time()\n",
    "        print(f\"{func.__name__} executed in {end_time - start_time} seconds\")\n",
    "        return result\n",
    "    return wrapper\n"
   ],
   "metadata": {
    "collapsed": false,
    "pycharm": {
     "name": "#%%\n"
    }
   }
  },
  {
   "cell_type": "markdown",
   "source": [
    "##### 7.6.4 缓存：缓存函数的结果以提高性能。"
   ],
   "metadata": {
    "collapsed": false,
    "pycharm": {
     "name": "#%% md\n"
    }
   }
  },
  {
   "cell_type": "code",
   "execution_count": null,
   "outputs": [],
   "source": [
    "from functools import lru_cache\n",
    "\n",
    "@lru_cache(maxsize=32)\n",
    "def expensive_function(x):\n",
    "    return x * x"
   ],
   "metadata": {
    "collapsed": false,
    "pycharm": {
     "name": "#%%\n"
    }
   }
  },
  {
   "cell_type": "code",
   "execution_count": 10,
   "metadata": {},
   "outputs": [
    {
     "name": "stdout",
     "output_type": "stream",
     "text": [
      "square exection time :0.0 seconds\n"
     ]
    },
    {
     "data": {
      "text/plain": [
       "100"
      ]
     },
     "execution_count": 10,
     "metadata": {},
     "output_type": "execute_result"
    }
   ],
   "source": [
    "# 装饰后的函数是用来代替原本的函数 因此更加直接的做法是用原来的变量名\n",
    "# square = decorator(square)\n",
    "# square(10)\n",
    "\n",
    "# 更为简单的方法是给函数定义带一个帽子\n",
    "@decorator\n",
    "def square(x):\n",
    "    return x*x\n",
    "square(10)"
   ]
  },
  {
   "cell_type": "markdown",
   "metadata": {},
   "source": [
    "我们不需要定义多个装饰器，我们可以定义一个定义装饰器的函数（装饰器生成器）\n",
    "装饰器生成器会根据参数生成不同的装饰器\n",
    "\n",
    "例如我们定义一个装饰器生成器为timer，需要参数：阈值"
   ]
  },
  {
   "cell_type": "code",
   "execution_count": 12,
   "metadata": {},
   "outputs": [
    {
     "name": "stdout",
     "output_type": "stream",
     "text": [
      "sleep_04 took longer than 0.2 seconds\n",
      "wrapper took longer than 0.2 seconds\n"
     ]
    }
   ],
   "source": [
    "def timer(threshold):\n",
    "    def decorator(func): #在这里定义一个装饰器 需要一个函数作为参数\n",
    "        def wrapper(*args,**kwargs):\n",
    "            start_time = time.time()\n",
    "            result = func(*args,**kwargs)\n",
    "            end_time = time.time()\n",
    "            if end_time-start_time >threshold:\n",
    "                print(f'{func.__name__} took longer than {threshold} seconds')\n",
    "            return result \n",
    "        return wrapper\n",
    "    return decorator\n",
    "\n",
    "@timer(0.2)\n",
    "def sleep_04():\n",
    "    time.sleep(0.4)\n",
    "\n",
    "# timer是一个会返回装饰器的函数 timer(0.2)是一个装饰器\n",
    "sleep_04 = timer(0.2)(sleep_04)   # 将sleep_04这个函数传给装饰器来达到装饰的目的\n",
    "\n",
    "sleep_04()\n"
   ]
  },
  {
   "cell_type": "code",
   "execution_count": 13,
   "metadata": {},
   "outputs": [
    {
     "data": {
      "text/plain": [
       "'wrapper'"
      ]
     },
     "execution_count": 13,
     "metadata": {},
     "output_type": "execute_result"
    }
   ],
   "source": [
    "# 装饰器后返回的是在装饰器里面定义的wrapper用于代替原来的func\n",
    "# wrapper可以继承func的属性的(NAME等)\n",
    "sleep_04.__name__"
   ]
  },
  {
   "cell_type": "code",
   "execution_count": 19,
   "metadata": {},
   "outputs": [
    {
     "name": "stdout",
     "output_type": "stream",
     "text": [
      "sleep_04 took longer than 0.2 seconds\n",
      "sleep_04\n"
     ]
    }
   ],
   "source": [
    "import functools\n",
    "\n",
    "# 为此 我们可以在这里面增加一行：\n",
    "def timer(threshold):\n",
    "    def decorator(func): #在这里定义一个装饰器 需要一个函数作为参数\n",
    "        # 这是在python中已经定义好的装饰器\n",
    "        @functools.wraps(func)\n",
    "        def wrapper(*args,**kwargs):\n",
    "            start_time = time.time()\n",
    "            result = func(*args,**kwargs)\n",
    "            end_time = time.time()\n",
    "            if end_time-start_time >threshold:\n",
    "                print(f'{func.__name__} took longer than {threshold} seconds')\n",
    "            return result \n",
    "        return wrapper\n",
    "    return decorator\n",
    "\n",
    "@timer(0.2)\n",
    "def sleep_04():\n",
    "    time.sleep(0.4)\n",
    "\n",
    "sleep_04()\n",
    "print(sleep_04.__name__)"
   ]
  },
  {
   "cell_type": "markdown",
   "metadata": {},
   "source": [
    "### 为什么要使用装饰器\n",
    "\n",
    "1. 使用装饰器可以提升代码复用，避免重复冗余代码。如果我又多个函数需要测量执行时间，我们可以直接将装饰器应用在这些函数上面，而不是给多个函数加上一样的代码，这样的代码不仅冗余且不方便后面的维护。\n",
    "\n",
    "2. 使用装饰器可以保证代码的逻辑清晰，如果一个本身功能就很复杂的函数，我们还需要通过修改内部代码来测量运行时间，这样会模糊函数自身的主逻辑，同时，软件开发的一个原则就是单一职责，即一个函数应该承担一项责任。\n",
    "\n",
    "3. 通过装饰器，我们可以扩展别人的函数，想想我们正在使用一个第三方库的函数，但我们要添加额外的行为，比如测量运行时间，那我们就可以用装饰器去包装，而不是跑到函数里面去修改"
   ]
  },
  {
   "cell_type": "markdown",
   "metadata": {},
   "source": [
    "#### 7.4 多个装饰器\n",
    "\n",
    "你可以同时应用多个装饰器，装饰器的执行顺序从内到外（从最接近函数定义的装饰器开始）。"
   ]
  },
  {
   "cell_type": "code",
   "execution_count": null,
   "metadata": {},
   "outputs": [],
   "source": [
    "@decorator_one\n",
    "@decorator_two\n",
    "def display():\n",
    "    print(\"Display function ran\")\n",
    "\n",
    "# 相当于\n",
    "display = decorator_one(decorator_two(display))"
   ]
  },
  {
   "cell_type": "markdown",
   "metadata": {},
   "source": [
    "#### 7.5 保留原函数的元数据\n",
    "\n",
    "在上面已经提到了，装饰器会覆盖原函数的元数据，如函数名、文档字符串。为了解决这个问题，可以使用functools模块中的@wraps装饰器。"
   ]
  },
  {
   "cell_type": "code",
   "execution_count": null,
   "metadata": {},
   "outputs": [],
   "source": [
    "from functools import wraps\n",
    "\n",
    "def decorator_function(original_function):\n",
    "    @functools.wraps(original_function)\n",
    "    def wrapper_function(*args, **kwargs):\n",
    "        print(f\"Wrapper executed before {original_function.__name__}\")\n",
    "        return original_function(*args, **kwargs)\n",
    "    return wrapper_function"
   ]
  },
  {
   "cell_type": "markdown",
   "metadata": {},
   "source": [
    "#### 7.6 装饰器的应用场景\n",
    "\n",
    "##### 7.6.1 日志记录：记录函数的执行情况"
   ]
  },
  {
   "cell_type": "code",
   "execution_count": 1,
   "metadata": {},
   "outputs": [],
   "source": [
    "def log_decorator(func):\n",
    "    @wraps(func)\n",
    "    def wrapper(*args, **kwargs):\n",
    "        print(f\"Calling {func.__name__} with {args} and {kwargs}\")\n",
    "        return func(*args, **kwargs)\n",
    "    return wrapper\n"
   ]
  },
  {
   "cell_type": "markdown",
   "metadata": {},
   "source": [
    "##### 7.6.2 权限检查：在函数执行前进行权限检查。"
   ]
  },
  {
   "cell_type": "code",
   "execution_count": 2,
   "metadata": {},
   "outputs": [],
   "source": [
    "def requires_permission(permission):\n",
    "    def decorator(func):\n",
    "        @wraps(func)\n",
    "        def wrapper(*args, **kwargs):\n",
    "            if not has_permission(permission):\n",
    "                raise PermissionError(f\"Permission {permission} required\")\n",
    "            return func(*args, **kwargs)\n",
    "        return wrapper\n",
    "    return decorator\n"
   ]
  },
  {
   "cell_type": "markdown",
   "metadata": {},
   "source": [
    "##### 7.6.3 性能计时：测量函数执行的时间。"
   ]
  },
  {
   "cell_type": "code",
   "execution_count": null,
   "metadata": {},
   "outputs": [],
   "source": [
    "import time\n",
    "\n",
    "def timer_decorator(func):\n",
    "    @wraps(func)\n",
    "    def wrapper(*args, **kwargs):\n",
    "        start_time = time.time()\n",
    "        result = func(*args, **kwargs)\n",
    "        end_time = time.time()\n",
    "        print(f\"{func.__name__} executed in {end_time - start_time} seconds\")\n",
    "        return result\n",
    "    return wrapper\n"
   ]
  },
  {
   "cell_type": "markdown",
   "metadata": {},
   "source": [
    "##### 7.6.4 缓存：缓存函数的结果以提高性能。"
   ]
  },
  {
   "cell_type": "code",
   "execution_count": null,
   "metadata": {},
   "outputs": [],
   "source": [
    "from functools import lru_cache\n",
    "\n",
    "@lru_cache(maxsize=32)\n",
    "def expensive_function(x):\n",
    "    return x * x"
   ]
  }
 ],
 "metadata": {
  "kernelspec": {
   "display_name": "base",
   "language": "python",
   "name": "python3"
  },
  "language_info": {
   "codemirror_mode": {
    "name": "ipython",
    "version": 3
   },
   "file_extension": ".py",
   "mimetype": "text/x-python",
   "name": "python",
   "nbconvert_exporter": "python",
   "pygments_lexer": "ipython3",
   "version": "3.8.5"
  },
  "orig_nbformat": 4
 },
 "nbformat": 4,
 "nbformat_minor": 2
}