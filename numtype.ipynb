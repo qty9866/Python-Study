{
 "cells": [
  {
   "cell_type": "code",
   "execution_count": 6,
   "metadata": {},
   "outputs": [
    {
     "name": "stdout",
     "output_type": "stream",
     "text": [
      "<class 'float'>\n",
      "True\n",
      "False\n"
     ]
    }
   ],
   "source": [
    "abc  =123.456 \n",
    "print(type(abc))\n",
    "print(\"123.0\">\"123\")\n",
    "print(\"123.0\">\"223\")"
   ]
  },
  {
   "cell_type": "markdown",
   "metadata": {},
   "source": [
    "## 制作一个计算器"
   ]
  },
  {
   "cell_type": "code",
   "execution_count": 2,
   "metadata": {},
   "outputs": [
    {
     "name": "stdout",
     "output_type": "stream",
     "text": [
      "11\n",
      "30\n",
      "25\n",
      "[0, 1, 4]\n"
     ]
    }
   ],
   "source": [
    "'''\n",
    "eval() 函数是 Python 中的一个内置函数，\n",
    "它的主要功能是将字符串作为 Python 表达式进行求值，\n",
    "并返回表达式的值。这意味着你可以将任何有效的 Python \n",
    "表达式作为字符串传递给 eval()，然后它将执行这个表达式并返回结果。\n",
    "'''\n",
    "# eval(expression, globals=None, locals=None)\n",
    "'''\n",
    "expression：一个字符串表达式，它将被 eval() 函数解析并执行。\n",
    "globals（可选）：一个字典，它将被用作全局变量。如果未提供，则使用当前的全局变量。\n",
    "locals（可选）：一个字典，它将被用作局部变量。如果未提供，则使用当前的局部变量。\n",
    "'''\n",
    "# 基本用法  \n",
    "x = 5  \n",
    "y = eval('x+6') \n",
    "print(y)  # 输出: 11  \n",
    "  \n",
    "# 使用 globals 参数  \n",
    "globals_dict = {'x': 10, 'y': 20}  \n",
    "result = eval('x + y', globals_dict)  \n",
    "print(result)  # 输出: 30  \n",
    "  \n",
    "# 使用 locals 参数（注意：locals 会覆盖 globals 中同名的变量）  \n",
    "locals_dict = {'x': 5}  \n",
    "result = eval('x + y', globals_dict, locals_dict)  \n",
    "print(result)  # 输出: 25，因为 locals_dict 中的 x 覆盖了 globals_dict 中的 x  \n",
    "  \n",
    "# 执行复杂的表达式  \n",
    "complex_expression = \"([x**2 for x in range(3)])\"  \n",
    "result = eval(complex_expression)  \n",
    "print(result)  # 输出: [0, 1, 4]"
   ]
  },
  {
   "cell_type": "code",
   "execution_count": 3,
   "metadata": {},
   "outputs": [
    {
     "name": "stdout",
     "output_type": "stream",
     "text": [
      "结果是14\n"
     ]
    }
   ],
   "source": [
    "# 所以计算器就是\n",
    "x1 = input(\"输入第一个数字\")\n",
    "x2 = input(\"输入第二个数字\")\n",
    "opt =input(\"请输入运算符号\") \n",
    "result = eval(f\"{x1}{opt}{x2}\")\n",
    "print(f\"{x1}{opt}{x2}的结果是{result}\")"
   ]
  },
  {
   "cell_type": "code",
   "execution_count": null,
   "metadata": {},
   "outputs": [],
   "source": [
    "\n"
   ]
  }
 ],
 "metadata": {
  "kernelspec": {
   "display_name": "py39",
   "language": "python",
   "name": "python3"
  },
  "language_info": {
   "codemirror_mode": {
    "name": "ipython",
    "version": 3
   },
   "file_extension": ".py",
   "mimetype": "text/x-python",
   "name": "python",
   "nbconvert_exporter": "python",
   "pygments_lexer": "ipython3",
   "version": "3.9.13"
  },
  "orig_nbformat": 4
 },
 "nbformat": 4,
 "nbformat_minor": 2
}
