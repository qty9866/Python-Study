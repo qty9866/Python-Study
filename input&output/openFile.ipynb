{
 "cells": [
  {
   "cell_type": "markdown",
   "metadata": {},
   "source": [
    "### open()函数\n",
    "\n",
    "Python 的 open() 函数用于打开一个文件，并返回一个文件对象。通过这个文件对象，可以进行文件的读、写、追加等操作。以下是 open() 函数的详细介绍。\n",
    "\n",
    "1. 基本语法\n",
    "```python\n",
    "file_object = open(file, mode='r', buffering=-1, encoding=None, errors=None, newline=None, closefd=True, opener=None)\n",
    "```\n",
    "\n",
    "2. 参数说明\n",
    "\n",
    "**file**: 要打开的文件的路径（字符串）。可以是相对路径或绝对路径。\n",
    "\n",
    "**mode**: （可选）表示文件的打开模式，默认值为 'r'（只读模式）。常见的模式包括：\n",
    "\n",
    "- 'r': 以只读模式打开文件，文件必须存在。\n",
    "\n",
    "- 'w': 以写模式打开文件，会覆盖文件内容，如果文件不存在则创建。\n",
    "\n",
    "- 'a': 以追加模式打开文件，文件指针在文件末尾，文件不存在则创建。\n",
    "\n",
    "- 'b': 以二进制模式打开文件，与其他模式一起使用，如 'rb'、'wb'。\n",
    "\n",
    "- 't': 以文本模式打开文件（默认模式），与其他模式一起使用，如 'rt'、'wt'。\n",
    "\n",
    "- 'x': 以写模式打开文件，文件存在时会引发异常，不存在时创建。\n",
    "\n",
    "- '+': 表示同时读写，例如 'r+'（读写），'w+'（覆盖写读），'a+'（追加读写）。\n",
    "\n",
    "- buffering: （可选）用于设置缓冲策略：\n",
    "\n",
    "    - -1：使用默认的缓冲策略。\n",
    "    \n",
    "    - 0：无缓冲。\n",
    "    \n",
    "    - 1：行缓冲（仅适用于文本模式）。\n",
    "\n",
    ">1：指定缓冲区大小（以字节为单位）。\n",
    "\n",
    "- encoding: （可选）指定文件编码类型，适用于文本模式（'t'模式）。常见编码包括 'utf-8'、'ascii' 等。\n",
    "\n",
    "- errors: （可选）指定编码解码错误的处理方式，如 'strict'（默认），'ignore'，'replace'，'backslashreplace' 等。\n",
    "\n",
    "- newline: （可选）控制换行符的处理，常见值包括 None、''、'\\n'、'\\r' 和 '\\r\\n'。\n",
    "\n",
    "- closefd: （可选）如果为 False，当文件描述符不再使用时不会自动关闭。通常用于文件描述符，而不是文件路径。\n",
    "\n",
    "- opener: （可选）自定义打开文件的函数，返回一个打开的文件描述符。常用于需要额外控制文件打开方式的情况。\n",
    "\n",
    "3. 返回值\n",
    "\n",
    "   open() 函数返回一个文件对象。该对象提供了一些方法来操作文件内容，例如 read()、write()、close() 等。\n",
    "\n",
    "4. 常用操作\n",
    "\n",
    "- 读取文件内容"
   ]
  },
  {
   "cell_type": "code",
   "execution_count": 2,
   "metadata": {},
   "outputs": [],
   "source": [
    "with open('test.txt', 'r', encoding='utf-8') as file:\n",
    "    content = file.read()  # 读取整个文件"
   ]
  },
  {
   "cell_type": "markdown",
   "metadata": {},
   "source": [
    "- 逐行读取文件的内容"
   ]
  },
  {
   "cell_type": "code",
   "execution_count": 8,
   "metadata": {},
   "outputs": [
    {
     "name": "stdout",
     "output_type": "stream",
     "text": [
      "I love your wet tiny pussy\n"
     ]
    }
   ],
   "source": [
    "with open('test.txt', 'r', encoding='utf-8') as file:\n",
    "    for line in file:\n",
    "        print(line.strip())  # 逐行读取并去除换行符"
   ]
  },
  {
   "cell_type": "markdown",
   "metadata": {},
   "source": [
    "- 写入文件"
   ]
  },
  {
   "cell_type": "code",
   "execution_count": 12,
   "metadata": {},
   "outputs": [],
   "source": [
    "with open('test.txt', 'w', encoding='utf-8') as file:\n",
    "    file.write('I love your wet tiny pussy')   # 覆盖了文件内容"
   ]
  },
  {
   "cell_type": "markdown",
   "metadata": {},
   "source": [
    "- 追加内容到文件（不会覆盖原有的内容）"
   ]
  },
  {
   "cell_type": "code",
   "execution_count": 13,
   "metadata": {},
   "outputs": [],
   "source": [
    "with open('test.txt','a',encoding='utf-8') as file:\n",
    "    file.write('\\nSuck my dick')"
   ]
  },
  {
   "cell_type": "markdown",
   "metadata": {},
   "source": [
    "5. 使用 with 语句\n",
    "\n",
    "open() 常与 with 语句一起使用，因为 with 语句会自动处理文件的关闭操作，即使发生了异常：\n",
    "\n",
    "使用 with 的好处是代码更加简洁，并且确保文件在不再需要时会被正确关闭。"
   ]
  },
  {
   "cell_type": "code",
   "execution_count": 16,
   "metadata": {},
   "outputs": [
    {
     "name": "stdout",
     "output_type": "stream",
     "text": [
      "I love your wet tiny pussy\n",
      "Suck my dick\n"
     ]
    }
   ],
   "source": [
    "with open('test.txt', 'r', encoding='utf-8') as file:\n",
    "    content = file.read()\n",
    "    print(content)"
   ]
  },
  {
   "cell_type": "markdown",
   "metadata": {},
   "source": [
    "6. 二进制模式\n",
    "二进制模式主要用于处理非文本文件，如图片、音频文件等：\n",
    "```python\n",
    "with open('example.jpg', 'rb') as file:\n",
    "    data = file.read()\n",
    "```"
   ]
  },
  {
   "cell_type": "markdown",
   "metadata": {},
   "source": [
    "7. 错误处理\n",
    "\n",
    "打开文件时可能会发生异常，如文件不存在、权限不足等。可以使用 try...except 来捕获并处理这些异常："
   ]
  },
  {
   "cell_type": "code",
   "execution_count": 17,
   "metadata": {},
   "outputs": [
    {
     "name": "stdout",
     "output_type": "stream",
     "text": [
      "File not found!\n"
     ]
    }
   ],
   "source": [
    "try:\n",
    "    with open('example.txt', 'r', encoding='utf-8') as file:\n",
    "        content = file.read()\n",
    "except FileNotFoundError:\n",
    "    print('File not found!')\n",
    "except IOError:\n",
    "    print('IO Error occurred!')\n"
   ]
  },
  {
   "cell_type": "markdown",
   "metadata": {},
   "source": [
    "8. 文件对象方法\n",
    "\n",
    "- read(size=-1): 读取指定大小的内容，若未指定或为 -1，则读取整个文件。\n",
    "\n",
    "- readline(): 逐行读取文件内容。\n",
    "\n",
    "- readlines(): 读取所有行，并返回一个包含各行内容的列表。\n",
    "\n",
    "- write(string): 将字符串写入文件。\n",
    "\n",
    "- writelines(lines): 将一系列字符串写入文件。\n",
    "\n",
    "- close(): 关闭文件，释放系统资源。\n",
    "\n",
    "9. 示例\n",
    "\n",
    "以下是一个完整的例子，演示了如何使用 open() 函数读取和写入文件："
   ]
  },
  {
   "cell_type": "code",
   "execution_count": 18,
   "metadata": {},
   "outputs": [
    {
     "name": "stdout",
     "output_type": "stream",
     "text": [
      "Hello, World!\n",
      "This is a test.\n"
     ]
    }
   ],
   "source": [
    "# 写入文件\n",
    "with open('test.txt', 'w', encoding='utf-8') as f:\n",
    "    f.write('Hello, World!\\n')\n",
    "    f.write('This is a test.')\n",
    "\n",
    "# 读取文件\n",
    "with open('test.txt', 'r', encoding='utf-8') as f:\n",
    "    content = f.read()\n",
    "    print(content)"
   ]
  },
  {
   "cell_type": "code",
   "execution_count": 30,
   "metadata": {},
   "outputs": [
    {
     "name": "stdout",
     "output_type": "stream",
     "text": [
      "['人生苦短,我用python']\n"
     ]
    }
   ],
   "source": [
    "f = open('demo_GBK.txt',mode='r',encoding='GBK')\n",
    "# f.write(\"人生苦短,我用python\")\n",
    "data = f.readlines()\n",
    "print(data)\n",
    "f.close()"
   ]
  },
  {
   "cell_type": "markdown",
   "metadata": {},
   "source": [
    "### close()函数\n",
    "\n",
    "close() 函数是用于关闭文件对象的函数。调用 close() 方法后，文件对象将不再可以进行读写操作。关闭文件是一个良好的编程习惯，因为这不仅可以释放系统资源，还可以确保数据正确写入到文件中。\n",
    "\n",
    "**为什么需要 close()？**\n",
    "\n",
    "- 释放资源: 文件在打开时会占用系统资源，特别是在处理大量文件时。如果不及时关闭文件，可能会耗尽系统资源，导致程序或系统运行缓慢或出现错误。\n",
    "\n",
    "- 确保数据完整性: 在写入文件时，数据通常会被缓存在内存中，直到缓冲区满了才写入磁盘。如果文件在程序结束前没有关闭，可能会导致部分数据丢失。调用 close() 方法会刷新缓冲区，将所有缓存的数据写入磁盘。\n",
    "\n",
    "- 防止文件锁定: 在某些操作系统中，打开的文件可能会被锁定，导致其他程序或操作无法对其进行操作。关闭文件可以解除这种锁定。\n",
    "\n",
    "\n",
    "与 with 语句结合使用\n",
    "尽管可以手动调用 close() 方法，但使用 with 语句是更好的做法，因为它能确保文件在不再需要时自动关闭，即使发生异常也是如此："
   ]
  },
  {
   "cell_type": "code",
   "execution_count": 29,
   "metadata": {},
   "outputs": [],
   "source": [
    "with open('test.txt', 'r') as file_object:\n",
    "    content = file_object.read()\n",
    "# 在 `with` 语句块结束时，文件会自动关闭"
   ]
  },
  {
   "cell_type": "markdown",
   "metadata": {},
   "source": [
    "#### 小试牛刀：合并两个文件\n",
    "\n",
    "1. 以可读取的模式打开原始文件\n",
    "\n",
    "2. 以写入的模式创建并打开要合并的文件\n",
    "\n",
    "3. 正确的关闭文件"
   ]
  },
  {
   "cell_type": "code",
   "execution_count": 1,
   "metadata": {},
   "outputs": [],
   "source": [
    "with open('demo1.txt') as f1:\n",
    "    file_data_1 = f1.read()\n",
    "\n",
    "with open('demo2.txt') as f2:\n",
    "    file_data_2 = f2.read()\n",
    "\n",
    "with open('demo3.txt',mode='w') as f3:\n",
    "    f3.write(file_data_1)\n",
    "    f3.write(file_data_2)"
   ]
  }
 ],
 "metadata": {
  "kernelspec": {
   "display_name": "base",
   "language": "python",
   "name": "python3"
  },
  "language_info": {
   "codemirror_mode": {
    "name": "ipython",
    "version": 3
   },
   "file_extension": ".py",
   "mimetype": "text/x-python",
   "name": "python",
   "nbconvert_exporter": "python",
   "pygments_lexer": "ipython3",
   "version": "3.8.5"
  },
  "orig_nbformat": 4
 },
 "nbformat": 4,
 "nbformat_minor": 2
}
