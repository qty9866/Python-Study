{
 "cells": [
  {
   "cell_type": "code",
   "execution_count": 3,
   "metadata": {},
   "outputs": [
    {
     "name": "stdout",
     "output_type": "stream",
     "text": [
      "封面日期没有采用汉字符号书写\n"
     ]
    }
   ],
   "source": [
    "from docx import Document\n",
    "import re\n",
    "\n",
    "def contains_chinese_date(text):\n",
    "    # 汉字日期格式的正则表达式\n",
    "    pattern = re.compile(r'(二〇一[二三四五六七八九]|二〇二[零一二三四五六七八九]|二〇[一二三四五六七八九]|[一二三四五六七八九]|[十百千万]){1,4}年(一月|二月|三月|四月|五月|六月|七月|八月|九月|十月|十一月|十二月)(初一|初二|初三|初四|初五|初六|初七|初八|初九|初十|十一|十二|十三|十四|十五|十六|十七|十八|十九|二十|廿一|廿二|廿三|廿四|廿五|廿六|廿七|廿八|廿九|三十|三十一)日')\n",
    "    return pattern.search(text) is not None\n",
    "\n",
    "def check_cover_date(doc_path):\n",
    "    doc = Document(doc_path)\n",
    "    # 假设封面在文档的第一页\n",
    "    first_paragraph = doc.paragraphs[0].text\n",
    "    \n",
    "    # 检查是否包含汉字日期\n",
    "    if contains_chinese_date(first_paragraph):\n",
    "        print(\"封面日期采用汉字符号书写\")\n",
    "    else:\n",
    "        print(\"封面日期没有采用汉字符号书写\")\n",
    "\n",
    "# 示例使用\n",
    "doc_path = 'test.docx'\n",
    "check_cover_date(doc_path)\n"
   ]
  },
  {
   "cell_type": "code",
   "execution_count": 5,
   "metadata": {},
   "outputs": [
    {
     "name": "stdout",
     "output_type": "stream",
     "text": [
      "第一页的日期没有使用中文书写\n"
     ]
    }
   ],
   "source": [
    "from docx import Document\n",
    "import re\n",
    "\n",
    "def contains_chinese_date(text):\n",
    "    # 正则表达式匹配汉字书写的日期格式\n",
    "    pattern = re.compile(r'[二一二三四五六七八九〇十]+年[一二三四五六七八九〇十]+月[一二三四五六七八九〇十]+日')\n",
    "    return pattern.search(text) is not None\n",
    "\n",
    "def check_first_page_dates(doc_path):\n",
    "    doc = Document(doc_path)\n",
    "    if doc.paragraphs:\n",
    "        # 只检查第一页的内容\n",
    "        first_page_text = doc.paragraphs[0].text\n",
    "\n",
    "        # 检查是否包含汉字书写的日期\n",
    "        if contains_chinese_date(first_page_text):\n",
    "            print(\"第一页的日期使用了中文书写\")\n",
    "        else:\n",
    "            print(\"第一页的日期没有使用中文书写\")\n",
    "    else:\n",
    "        print(\"文档第一页没有内容\")\n",
    "\n",
    "# 示例使用\n",
    "doc_path = 'test.docx'\n",
    "check_first_page_dates(doc_path)\n"
   ]
  }
 ],
 "metadata": {
  "kernelspec": {
   "display_name": "base",
   "language": "python",
   "name": "python3"
  },
  "language_info": {
   "codemirror_mode": {
    "name": "ipython",
    "version": 3
   },
   "file_extension": ".py",
   "mimetype": "text/x-python",
   "name": "python",
   "nbconvert_exporter": "python",
   "pygments_lexer": "ipython3",
   "version": "3.8.5"
  },
  "orig_nbformat": 4
 },
 "nbformat": 4,
 "nbformat_minor": 2
}
