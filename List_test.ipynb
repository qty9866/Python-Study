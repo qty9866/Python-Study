{
 "cells": [
  {
   "cell_type": "code",
   "execution_count": 3,
   "metadata": {},
   "outputs": [
    {
     "name": "stdout",
     "output_type": "stream",
     "text": [
      "['James', 'Irving', 'Durant']\n",
      "<class 'list'>\n",
      "['K', 'o', 'b', 'e']\n"
     ]
    }
   ],
   "source": [
    "players = [\"James\",\"Irving\",\"Durant\"]\n",
    "print(players)\n",
    "print(type(players))\n",
    "\n",
    "# 使用内置的函数list()可以将字符串转换为列表\n",
    "x = list(\"Kobe\")\n",
    "print(x)"
   ]
  },
  {
   "cell_type": "markdown",
   "metadata": {},
   "source": [
    "### list.insert(索引,元素)  \n",
    "在索引位置插入元素"
   ]
  },
  {
   "cell_type": "code",
   "execution_count": 5,
   "metadata": {},
   "outputs": [
    {
     "name": "stdout",
     "output_type": "stream",
     "text": [
      "['a', 1, 2, 3, 4]\n",
      "[1, 2, 'b', 3, 4]\n"
     ]
    }
   ],
   "source": [
    "my_list = [1, 2, 3, 4]\n",
    "my_list.insert(0, 'a')\n",
    "print(my_list)\n",
    "\n",
    "my_list = [1, 2, 3, 4]\n",
    "my_list.insert(2, 'b')\n",
    "print(my_list)\n"
   ]
  },
  {
   "cell_type": "markdown",
   "metadata": {},
   "source": [
    "### list.append(element)\n",
    "element：要添加到列表末尾的元素。"
   ]
  },
  {
   "cell_type": "code",
   "execution_count": 7,
   "metadata": {},
   "outputs": [
    {
     "name": "stdout",
     "output_type": "stream",
     "text": [
      "[1]\n",
      "[1, 2, 3, 4]\n"
     ]
    }
   ],
   "source": [
    "my_list = []\n",
    "my_list.append(1)\n",
    "print(my_list)\n",
    "\n",
    "my_list = [1, 2, 3]\n",
    "my_list.append(4)\n",
    "print(my_list)"
   ]
  },
  {
   "cell_type": "code",
   "execution_count": 10,
   "metadata": {},
   "outputs": [
    {
     "name": "stdout",
     "output_type": "stream",
     "text": [
      "['a', 'b', 'c', 'd']\n",
      "[1, 2, 3, [4, 5]]\n"
     ]
    }
   ],
   "source": [
    "my_list = ['a', 'b', 'c']\n",
    "my_list.append('d')\n",
    "print(my_list)\n",
    "\n",
    "\n",
    "my_list = [1, 2, 3]\n",
    "my_list.append([4, 5])\n",
    "print(my_list)"
   ]
  },
  {
   "cell_type": "code",
   "execution_count": 11,
   "metadata": {},
   "outputs": [
    {
     "name": "stdout",
     "output_type": "stream",
     "text": [
      "[1, 'a', 3.5, True]\n"
     ]
    }
   ],
   "source": [
    "# 添加不同的数据类型\n",
    "my_list = [1, 'a', 3.5]\n",
    "my_list.append(True)\n",
    "print(my_list)"
   ]
  },
  {
   "cell_type": "markdown",
   "metadata": {},
   "source": [
    "### list.extend(可迭代的对象*)\n",
    "在 Python 中，list.extend() 方法用于将另一个可迭代对象（如列表、元组、字符串等）的所有元素添加到当前列表的末尾。它的语法如下："
   ]
  },
  {
   "cell_type": "code",
   "execution_count": 15,
   "metadata": {},
   "outputs": [
    {
     "name": "stdout",
     "output_type": "stream",
     "text": [
      "[1, 2, 3, 4, 5, 6]\n",
      "['a', 'b', 'c', 'd', 'e']\n",
      "[1, 2, 3, 'a', 'b', 'c']\n",
      "[1, 2, 3, 4, 5, 6]\n"
     ]
    }
   ],
   "source": [
    "# 示例 1：将另一个列表的元素添加到当前列表\n",
    "my_list = [1, 2, 3]\n",
    "my_list.extend([4, 5, 6])\n",
    "print(my_list)\n",
    "\n",
    "# 示例 2：将元组的元素添加到列表\n",
    "my_list = ['a', 'b', 'c']\n",
    "my_list.extend(('d', 'e'))\n",
    "print(my_list)\n",
    "\n",
    "# 示例 3：将字符串的字符添加到列表 \n",
    "my_list = [1, 2, 3]\n",
    "my_list.extend('abc')\n",
    "print(my_list)\n",
    "\n",
    "# 示例 4：将集合的元素添加到列表\n",
    "my_list = [1, 2, 3]\n",
    "my_list.extend({4, 5, 6})\n",
    "print(my_list)"
   ]
  },
  {
   "cell_type": "markdown",
   "metadata": {},
   "source": [
    "### list.remove(element)\n",
    "移除列表的元素\n",
    "\n",
    "`element`：要从列表中删除的元素"
   ]
  },
  {
   "cell_type": "code",
   "execution_count": 18,
   "metadata": {},
   "outputs": [
    {
     "name": "stdout",
     "output_type": "stream",
     "text": [
      "[1, 2, 4, 5]\n",
      "list.remove(x): x not in list\n"
     ]
    }
   ],
   "source": [
    "# 示例 1：删除存在的元素\n",
    "my_list = [1, 2, 3, 4, 5]\n",
    "my_list.remove(3)\n",
    "print(my_list)\n",
    "\n",
    "# 示例 2：尝试删除不存在的元素\n",
    "my_list = [1, 2, 3, 4, 5]\n",
    "try:\n",
    "    my_list.remove(6)\n",
    "except ValueError as e:\n",
    "    print(e)\n"
   ]
  },
  {
   "cell_type": "code",
   "execution_count": 21,
   "metadata": {},
   "outputs": [
    {
     "name": "stdout",
     "output_type": "stream",
     "text": [
      "[1, 3, 2, 4, 2]\n",
      "['apple', 'cherry', 'date']\n",
      "[1, 4, 5]\n"
     ]
    }
   ],
   "source": [
    "# 示例 3：删除重复的元素\n",
    "# 注意：只删除第一个匹配的元素\n",
    "\n",
    "my_list = [1, 2, 3, 2, 4, 2]\n",
    "my_list.remove(2)\n",
    "print(my_list)\n",
    "\n",
    "# 示例 4：删除字符串列表中的元素\n",
    "my_list = ['apple', 'banana', 'cherry', 'date']\n",
    "my_list.remove('banana')\n",
    "print(my_list)\n",
    "\n",
    "# 示例 5：删除嵌套列表中的元素\\\n",
    "\n",
    "my_list = [1, [2, 3], 4, 5]\n",
    "my_list.remove([2, 3])\n",
    "print(my_list)"
   ]
  },
  {
   "cell_type": "markdown",
   "metadata": {},
   "source": [
    "### list.reverse()\n",
    "\n",
    "在 Python 中，`list.reverse()` 方法用于原地反转列表中的元素。它不会创建新的列表，而是直接修改原列表。它的语法如下："
   ]
  },
  {
   "cell_type": "code",
   "execution_count": 22,
   "metadata": {},
   "outputs": [
    {
     "name": "stdout",
     "output_type": "stream",
     "text": [
      "[5, 4, 3, 2, 1]\n",
      "['d', 'c', 'b', 'a']\n"
     ]
    }
   ],
   "source": [
    "my_list = [1, 2, 3, 4, 5]\n",
    "my_list.reverse()\n",
    "print(my_list)\n",
    "\n",
    "my_list = ['a', 'b', 'c', 'd']\n",
    "my_list.reverse()\n",
    "print(my_list)"
   ]
  },
  {
   "cell_type": "markdown",
   "metadata": {},
   "source": [
    "### list.pop(index)\n",
    "\n",
    "在 Python 中，list.pop() 方法用于移除并返回列表中的一个元素。默认情况下，它会移除并返回列表中的最后一个元素，但你也可以通过指定索引来移除特定位置的元素。它的语法如下：\n",
    "\n",
    "`index`：可选参数，指定要移除和返回元素的索引。如果不指定索引，默认移除并返回最后一个元素。\n"
   ]
  },
  {
   "cell_type": "code",
   "execution_count": 23,
   "metadata": {},
   "outputs": [
    {
     "name": "stdout",
     "output_type": "stream",
     "text": [
      "5\n",
      "[1, 2, 3, 4]\n"
     ]
    }
   ],
   "source": [
    "#  示例 1：移除并返回最后一个元素\n",
    "my_list = [1, 2, 3, 4, 5]\n",
    "popped_element = my_list.pop()\n",
    "print(popped_element)  # 输出 5\n",
    "print(my_list)         # 输出 [1, 2, 3, 4]"
   ]
  },
  {
   "cell_type": "code",
   "execution_count": 24,
   "metadata": {},
   "outputs": [
    {
     "name": "stdout",
     "output_type": "stream",
     "text": [
      "3\n",
      "[1, 2, 4, 5]\n"
     ]
    }
   ],
   "source": [
    "#  示例 2：移除并返回指定位置的元素\n",
    "\n",
    "my_list = [1, 2, 3, 4, 5]\n",
    "popped_element = my_list.pop(2)\n",
    "print(popped_element)  # 输出 3\n",
    "print(my_list)         # 输出 [1, 2, 4, 5]\n"
   ]
  },
  {
   "cell_type": "markdown",
   "metadata": {},
   "source": [
    "### list.copy\n",
    "\n",
    "在 Python 中，list.copy() 方法用于创建列表的浅拷贝。它返回一个新的列表，该列表包含原列表中的所有元素，但它们是独立的对象。它的语法如下：\n",
    "\n",
    "new_list = original_list.copy()\n"
   ]
  },
  {
   "cell_type": "code",
   "execution_count": 25,
   "metadata": {},
   "outputs": [
    {
     "name": "stdout",
     "output_type": "stream",
     "text": [
      "[1, 2, 3, 4, 5]\n"
     ]
    }
   ],
   "source": [
    "# 示例 1：复制简单列表\n",
    "original_list = [1, 2, 3, 4, 5]\n",
    "copied_list = original_list.copy()\n",
    "print(copied_list)  # 输出 [1, 2, 3, 4, 5]"
   ]
  },
  {
   "cell_type": "code",
   "execution_count": 26,
   "metadata": {},
   "outputs": [
    {
     "name": "stdout",
     "output_type": "stream",
     "text": [
      "[1, 2, 3, 4, 5, 6]\n",
      "[1, 2, 3, 4, 5]\n"
     ]
    }
   ],
   "source": [
    "# 示例 2：修改原列表不会影响复制的列表\n",
    "original_list = [1, 2, 3, 4, 5]\n",
    "copied_list = original_list.copy()\n",
    "original_list.append(6)\n",
    "print(original_list)  # 输出 [1, 2, 3, 4, 5, 6]\n",
    "print(copied_list)    # 输出 [1, 2, 3, 4, 5]\n"
   ]
  },
  {
   "cell_type": "code",
   "execution_count": 27,
   "metadata": {},
   "outputs": [
    {
     "name": "stdout",
     "output_type": "stream",
     "text": [
      "[1, [2, 3], 4, 5]\n"
     ]
    }
   ],
   "source": [
    "#  示例 3：复制包含嵌套列表的列表\n",
    "original_list = [1, [2, 3], 4, 5]\n",
    "copied_list = original_list.copy()\n",
    "print(copied_list)  # 输出 [1, [2, 3], 4, 5]"
   ]
  },
  {
   "cell_type": "code",
   "execution_count": 28,
   "metadata": {},
   "outputs": [
    {
     "name": "stdout",
     "output_type": "stream",
     "text": [
      "[1, ['a', 3], 4, 5]\n",
      "[1, ['a', 3], 4, 5]\n"
     ]
    }
   ],
   "source": [
    "# 示例 4：修改嵌套列表中的元素会影响复制的列表（浅拷贝） \n",
    "original_list = [1, [2, 3], 4, 5]\n",
    "copied_list = original_list.copy()\n",
    "original_list[1][0] = 'a'\n",
    "print(original_list)  # 输出 [1, ['a', 3], 4, 5]\n",
    "print(copied_list)    # 输出 [1, ['a', 3], 4, 5]"
   ]
  },
  {
   "cell_type": "code",
   "execution_count": 29,
   "metadata": {},
   "outputs": [
    {
     "name": "stdout",
     "output_type": "stream",
     "text": [
      "[1, ['a', 3], 4, 5]\n",
      "[1, [2, 3], 4, 5]\n"
     ]
    }
   ],
   "source": [
    "# 示例 5：使用 copy.deepcopy 进行深拷贝\n",
    "# 如果你需要完全独立的副本，包括嵌套列表的元素，你需要使用 copy 模块中的 deepcopy 函数。\n",
    "\n",
    "import copy\n",
    "\n",
    "original_list = [1, [2, 3], 4, 5]\n",
    "deep_copied_list = copy.deepcopy(original_list)\n",
    "original_list[1][0] = 'a'\n",
    "print(original_list)       # 输出 [1, ['a', 3], 4, 5]\n",
    "print(deep_copied_list)    # 输出 [1, [2, 3], 4, 5]"
   ]
  },
  {
   "cell_type": "markdown",
   "metadata": {},
   "source": [
    "### list.clear() 清空列表\n",
    "\n",
    "在 Python 中，list.clear() 方法用于移除列表中的所有元素，使其变为空列表。它不会删除列表对象本身，只是清空其中的内容。它的语法如下："
   ]
  },
  {
   "cell_type": "code",
   "execution_count": 31,
   "metadata": {},
   "outputs": [
    {
     "name": "stdout",
     "output_type": "stream",
     "text": [
      "[]\n"
     ]
    }
   ],
   "source": [
    "# 示例 1：清空列表\n",
    "\n",
    "my_list = [1, 2, 3, 4, 5]\n",
    "my_list.clear()\n",
    "print(my_list)"
   ]
  },
  {
   "cell_type": "markdown",
   "metadata": {},
   "source": [
    "### list.count(element)\n",
    "\n",
    "在 Python 中，list.count() 方法用于统计列表中某个元素出现的次数。它的语法如下\n",
    "\n",
    "`element`：要统计的元素"
   ]
  },
  {
   "cell_type": "code",
   "execution_count": 32,
   "metadata": {},
   "outputs": [
    {
     "name": "stdout",
     "output_type": "stream",
     "text": [
      "3\n"
     ]
    }
   ],
   "source": [
    "# 示例 1：统计数字列表中的元素出现次数\n",
    "my_list = [1, 2, 3, 2, 2, 4, 5]\n",
    "count_2 = my_list.count(2)\n",
    "print(count_2)  # 输出 3\n"
   ]
  },
  {
   "cell_type": "code",
   "execution_count": 33,
   "metadata": {},
   "outputs": [
    {
     "name": "stdout",
     "output_type": "stream",
     "text": [
      "3\n",
      "0\n"
     ]
    }
   ],
   "source": [
    "my_list = ['apple', 'banana', 'apple', 'cherry', 'apple']\n",
    "count_apple = my_list.count('apple')\n",
    "count_a = my_list.count('a')\n",
    "print(count_apple)  # 输出 3\n",
    "print(count_a)  # 输出 0"
   ]
  },
  {
   "cell_type": "markdown",
   "metadata": {},
   "source": [
    "## 列表排序\n",
    "\n",
    "### list.sort(reverse=true) 列表原地排序\n",
    "\n",
    "### sort(list) 列表排序后返回新的列表"
   ]
  },
  {
   "cell_type": "markdown",
   "metadata": {},
   "source": [
    "在 Python 中，list.sort() 方法用于对列表中的元素进行就地排序。它会修改原列表，\n",
    "并按升序排列列表中的元素。默认情况下，list.sort() 使用升序排序，但你可以通过指定参数来进行降序排序。它的语法如下：\n",
    "\n",
    "`list.sort(key=None, reverse=False)`\n",
    "\n",
    "- `key` ：一个函数，指定用于排序比较的键。默认值是 None。\n",
    "- `reverse` ：布尔值，是否反向排序。如果为 True，列表将按降序排序。默认值是 False（即升序排序）。\n"
   ]
  },
  {
   "cell_type": "code",
   "execution_count": 35,
   "metadata": {},
   "outputs": [
    {
     "name": "stdout",
     "output_type": "stream",
     "text": [
      "[1, 3, 4, 7, 9]\n",
      "[9, 7, 4, 3, 1]\n"
     ]
    }
   ],
   "source": [
    "# 示例 1：按升序排序\n",
    "\n",
    "my_list = [4, 1, 7, 3, 9]\n",
    "my_list.sort()\n",
    "print(my_list)\n",
    "\n",
    "# 示例 2：按降序排序\n",
    "my_list = [4, 1, 7, 3, 9]\n",
    "my_list.sort(reverse=True)\n",
    "print(my_list)\n"
   ]
  },
  {
   "cell_type": "code",
   "execution_count": 36,
   "metadata": {},
   "outputs": [
    {
     "name": "stdout",
     "output_type": "stream",
     "text": [
      "['date', 'apple', 'banana', 'cherry']\n"
     ]
    }
   ],
   "source": [
    "# 示例 3：按字符串长度排序\n",
    "my_list = ['apple', 'banana', 'cherry', 'date']\n",
    "my_list.sort(key=len)\n",
    "print(my_list)"
   ]
  },
  {
   "cell_type": "code",
   "execution_count": 37,
   "metadata": {},
   "outputs": [
    {
     "name": "stdout",
     "output_type": "stream",
     "text": [
      "[{'name': 'Bob', 'age': 25}, {'name': 'Alice', 'age': 30}, {'name': 'Charlie', 'age': 35}]\n"
     ]
    }
   ],
   "source": [
    "# 示例 4：按自定义函数排序\n",
    "my_list = [{'name': 'Alice', 'age': 30}, {'name': 'Bob', 'age': 25}, {'name': 'Charlie', 'age': 35}]\n",
    "my_list.sort(key=lambda x: x['age'])\n",
    "print(my_list)\n"
   ]
  }
 ],
 "metadata": {
  "kernelspec": {
   "display_name": "base",
   "language": "python",
   "name": "python3"
  },
  "language_info": {
   "codemirror_mode": {
    "name": "ipython",
    "version": 3
   },
   "file_extension": ".py",
   "mimetype": "text/x-python",
   "name": "python",
   "nbconvert_exporter": "python",
   "pygments_lexer": "ipython3",
   "version": "3.8.5"
  },
  "orig_nbformat": 4
 },
 "nbformat": 4,
 "nbformat_minor": 2
}
