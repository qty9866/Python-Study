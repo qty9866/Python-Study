{
 "cells": [
  {
   "cell_type": "code",
   "execution_count": 1,
   "metadata": {},
   "outputs": [],
   "source": [
    "import re\n",
    "import csv\n",
    "from docx import Document\n",
    "from docx.shared import Pt \n",
    "import xml.etree.ElementTree as ET  \n",
    "import argparse\n",
    "from docx.enum.text import WD_PARAGRAPH_ALIGNMENT\n",
    "\n",
    "doc = Document(\"test.docx\")"
   ]
  },
  {
   "cell_type": "code",
   "execution_count": null,
   "metadata": {},
   "outputs": [],
   "source": [
    "def check_date_format(doc):\n",
    "    pattern = r'[〇一二三四五六七八九零]{4}年[〇一二三四五六七八九十]{1,2}月'\n",
    "    first_page = ''\n",
    "    for par in doc.paragraphs:\n",
    "        first_page += par.text + '\\n'\n",
    "        if 'PAGE_BREAK' in par.text:\n",
    "            break\n",
    "    match = re.search(pattern, first_page)\n",
    "    if not match:\n",
    "        print(\"首页日期格式有误\")\n",
    "\n",
    "check_date_format(doc)"
   ]
  }
 ],
 "metadata": {
  "kernelspec": {
   "display_name": "base",
   "language": "python",
   "name": "python3"
  },
  "language_info": {
   "codemirror_mode": {
    "name": "ipython",
    "version": 3
   },
   "file_extension": ".py",
   "mimetype": "text/x-python",
   "name": "python",
   "nbconvert_exporter": "python",
   "pygments_lexer": "ipython3",
   "version": "3.8.5"
  },
  "orig_nbformat": 4
 },
 "nbformat": 4,
 "nbformat_minor": 2
}
