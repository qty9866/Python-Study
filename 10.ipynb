{
 "cells": [
  {
   "cell_type": "code",
   "execution_count": 4,
   "metadata": {},
   "outputs": [
    {
     "name": "stdout",
     "output_type": "stream",
     "text": [
      "hello\n",
      "\n",
      "Hello,\n",
      "      Python\n",
      "Hi\n",
      "      HI\n",
      "\n"
     ]
    }
   ],
   "source": [
    "print(\"hello\")\n",
    "print('''\n",
    "Hello,\n",
    "      Python''')\n",
    "print(\"\"\"Hi\n",
    "      HI\n",
    "\"\"\")"
   ]
  },
  {
   "cell_type": "code",
   "execution_count": 2,
   "metadata": {},
   "outputs": [
    {
     "name": "stdout",
     "output_type": "stream",
     "text": [
      "x的值是123\n"
     ]
    }
   ],
   "source": [
    "# 使用f-string 的方式将字符串和变量值组合在一起\n",
    "# 用法就是f\"{变量名}\"\n",
    "x  =  123\n",
    "print(f\"x的值是{x}\")"
   ]
  },
  {
   "cell_type": "code",
   "execution_count": 8,
   "metadata": {},
   "outputs": [
    {
     "name": "stdout",
     "output_type": "stream",
     "text": [
      "True\n",
      "False\n"
     ]
    }
   ],
   "source": [
    "# 字符串的包含关系\n",
    "print('h' in 'hud')\n",
    "print('h' not in 'hud')"
   ]
  },
  {
   "cell_type": "code",
   "execution_count": 12,
   "metadata": {},
   "outputs": [
    {
     "name": "stdout",
     "output_type": "stream",
     "text": [
      "st\n",
      "sss\n",
      "abcabcabc\n"
     ]
    }
   ],
   "source": [
    "# 连接  + / * 拼接和重复\n",
    "x = \"abc\"\n",
    "print('s' + 't')\n",
    "print('s' * 3)\n",
    "print(x * 3)"
   ]
  },
  {
   "cell_type": "code",
   "execution_count": 15,
   "metadata": {},
   "outputs": [
    {
     "name": "stdout",
     "output_type": "stream",
     "text": [
      "b\n",
      "bc\n",
      "bdf\n"
     ]
    }
   ],
   "source": [
    "# 切片操作\n",
    "str = 'abcdefghijklmnopqrstuvwxyz'\n",
    "print(str[1])  # str的第i项，起始为0\n",
    "print(str[1:3]) # 从i到j的切片\n",
    "print(str[1:6:2]) # 从i到j步长为k的切片\n"
   ]
  },
  {
   "cell_type": "markdown",
   "metadata": {},
   "source": [
    "## 字符串的常用方法"
   ]
  },
  {
   "cell_type": "code",
   "execution_count": 1,
   "metadata": {},
   "outputs": [
    {
     "name": "stdout",
     "output_type": "stream",
     "text": [
      "在整个字符串中，'hello' 出现了 3 次。\n",
      "从索引 7 开始到字符串末尾，'hello' 出现了 2 次。\n",
      "从索引 0 到索引 20 之间，'hello' 出现了 2 次。\n"
     ]
    }
   ],
   "source": [
    "# str.count(sub[,start[,end]])\n",
    "# 返回子字符串sub在[start,end]范围内非重叠出现的次数\n",
    "\n",
    "\n",
    "# 定义一个字符串  \n",
    "str = \"hello world, hello python, hello everyone\"  \n",
    "  \n",
    "# 计算整个字符串中 \"hello\" 出现的次数  \n",
    "count_all = str.count(\"hello\")  \n",
    "print(f\"在整个字符串中，'hello' 出现了 {count_all} 次。\")  \n",
    "  \n",
    "# 计算从索引 7 开始到字符串末尾，\"hello\" 出现的次数  \n",
    "# 注意：索引从 0 开始，因此 \"hello world,\" 之后的第一个 \"hello\" 位于索引 13  \n",
    "count_from_7 = str.count(\"hello\", 7)  \n",
    "print(f\"从索引 7 开始到字符串末尾，'hello' 出现了 {count_from_7} 次。\")  \n",
    "  \n",
    "# 计算从索引 0 到索引 20（不包括20）之间，\"hello\" 出现的次数  \n",
    "# 这将只包括 \"hello world,\" 中的 \"hello\"  \n",
    "count_0_to_20 = str.count(\"hello\", 0, 20)  \n",
    "print(f\"从索引 0 到索引 20 之间，'hello' 出现了 {count_0_to_20} 次。\")"
   ]
  },
  {
   "cell_type": "code",
   "execution_count": 5,
   "metadata": {},
   "outputs": [
    {
     "name": "stdout",
     "output_type": "stream",
     "text": [
      "False\n",
      "True\n",
      "True\n",
      "True\n",
      "False\n"
     ]
    }
   ],
   "source": [
    "'''\n",
    "str.isalnum() 是 Python 中的一个字符串方法，用于检查字符串中的所有字符是否都是字母（无论是大写还是小写）\n",
    "或数字。如果字符串中至少有一个字符并且所有字符都是字母或数字，则返回 True；否则返回 False。\n",
    "这个方法对于空字符串会返回 False，因为空字符串不包含任何字符，因此不满足“所有字符都是字母或数字”的条件。\n",
    "'''\n",
    "# 示例 1: 字符串包含字母和数字  \n",
    "s1 = \"hello 123\"  \n",
    "print(s1.isalnum())  # 输出: False，因为包含空格 \n",
    "\n",
    "# 修正示例 1: 移除空格  \n",
    "s1_corrected = \"hello123\"  \n",
    "print(s1_corrected.isalnum())  # 输出: True \n",
    "# 示例 2: 字符串仅包含字母  \n",
    "s2 = \"Python\"  \n",
    "print(s2.isalnum())  # 输出: True  \n",
    "  \n",
    "# 示例 3: 字符串仅包含数字  \n",
    "s3 = \"12345\"  \n",
    "print(s3.isalnum())  # 输出: True  \n",
    "  \n",
    "# 示例 4: 字符串包含特殊字符  \n",
    "s4 = \"hello@123\"  \n",
    "print(s4.isalnum())  # 输出: False  "
   ]
  },
  {
   "cell_type": "code",
   "execution_count": 6,
   "metadata": {},
   "outputs": [
    {
     "name": "stdout",
     "output_type": "stream",
     "text": [
      "True\n",
      "False\n",
      "False\n",
      "False\n",
      "False\n",
      "True\n",
      "False\n",
      "True\n"
     ]
    }
   ],
   "source": [
    "'''\n",
    "str.isalpha() 是 Python 中的一个字符串方法，用于检查字符串中的所有字符是否都是字母。\n",
    "如果字符串中至少有一个字符并且所有字符都是字母（无论是大写还是小写），则返回 True,否则返回 False。\n",
    "这个方法对于空字符串会返回 False,因为空字符串不包含任何字符,因此不满足“所有字符都是字母”的条件。\n",
    "'''\n",
    "# 示例 1: 字符串包含字母  \n",
    "s1 = \"Python\"  \n",
    "print(s1.isalpha())  # 输出: True  \n",
    "  \n",
    "# 示例 2: 字符串包含数字  \n",
    "s2 = \"hello123\"  \n",
    "print(s2.isalpha())  # 输出: False  \n",
    "  \n",
    "# 示例 3: 字符串包含特殊字符  \n",
    "s3 = \"hello@123\"  \n",
    "print(s3.isalpha())  # 输出: False  \n",
    "  \n",
    "# 示例 4: 字符串为空  \n",
    "s4 = \"\"  \n",
    "print(s4.isalpha())  # 输出: False  \n",
    "  \n",
    "# 示例 5: 字符串包含空格  \n",
    "s5 = \"hello world\"  \n",
    "print(s5.isalpha())  # 输出: False  \n",
    "  \n",
    "# 示例 6: 字符串仅包含大写字母  \n",
    "s6 = \"PYTHON\"  \n",
    "print(s6.isalpha())  # 输出: True  \n",
    "  \n",
    "# 示例 7: 字符串包含标点符号  \n",
    "s7 = \"hello, world!\"  \n",
    "print(s7.isalpha())  # 输出: False  \n",
    "  \n",
    "# 示例 8: 字符串包含非ASCII字母（例如希腊字母）  \n",
    "s8 = \"αβγ\"  \n",
    "print(s8.isalpha())  # 输出: True（如果Python环境支持Unicode）"
   ]
  },
  {
   "cell_type": "code",
   "execution_count": 9,
   "metadata": {},
   "outputs": [
    {
     "name": "stdout",
     "output_type": "stream",
     "text": [
      "Hello world from Python\n",
      "Hello, world, from, Python\n",
      "sequence item 0: expected str instance, int found\n"
     ]
    },
    {
     "ename": "TypeError",
     "evalue": "'str' object is not callable",
     "output_type": "error",
     "traceback": [
      "\u001b[1;31m---------------------------------------------------------------------------\u001b[0m",
      "\u001b[1;31mTypeError\u001b[0m                                 Traceback (most recent call last)",
      "Cell \u001b[1;32mIn[9], line 21\u001b[0m\n\u001b[0;32m     18\u001b[0m     \u001b[39mprint\u001b[39m(e)  \u001b[39m# 输出类似: sequence item 0: expected str instance, int found  \u001b[39;00m\n\u001b[0;32m     20\u001b[0m \u001b[39m# 正确的做法是将非字符串元素转换为字符串  \u001b[39;00m\n\u001b[1;32m---> 21\u001b[0m numbers_str \u001b[39m=\u001b[39m [\u001b[39mstr\u001b[39m(n) \u001b[39mfor\u001b[39;00m n \u001b[39min\u001b[39;00m numbers]  \n\u001b[0;32m     22\u001b[0m result_numbers \u001b[39m=\u001b[39m \u001b[39m\"\u001b[39m\u001b[39m-\u001b[39m\u001b[39m\"\u001b[39m\u001b[39m.\u001b[39mjoin(numbers_str)  \n\u001b[0;32m     23\u001b[0m \u001b[39mprint\u001b[39m(result_numbers)  \u001b[39m# 输出: 1-2-3-4\u001b[39;00m\n",
      "Cell \u001b[1;32mIn[9], line 21\u001b[0m, in \u001b[0;36m<listcomp>\u001b[1;34m(.0)\u001b[0m\n\u001b[0;32m     18\u001b[0m     \u001b[39mprint\u001b[39m(e)  \u001b[39m# 输出类似: sequence item 0: expected str instance, int found  \u001b[39;00m\n\u001b[0;32m     20\u001b[0m \u001b[39m# 正确的做法是将非字符串元素转换为字符串  \u001b[39;00m\n\u001b[1;32m---> 21\u001b[0m numbers_str \u001b[39m=\u001b[39m [\u001b[39mstr\u001b[39;49m(n) \u001b[39mfor\u001b[39;00m n \u001b[39min\u001b[39;00m numbers]  \n\u001b[0;32m     22\u001b[0m result_numbers \u001b[39m=\u001b[39m \u001b[39m\"\u001b[39m\u001b[39m-\u001b[39m\u001b[39m\"\u001b[39m\u001b[39m.\u001b[39mjoin(numbers_str)  \n\u001b[0;32m     23\u001b[0m \u001b[39mprint\u001b[39m(result_numbers)  \u001b[39m# 输出: 1-2-3-4\u001b[39;00m\n",
      "\u001b[1;31mTypeError\u001b[0m: 'str' object is not callable"
     ]
    }
   ],
   "source": [
    "# str.join(iterable)\n",
    "# str：指定用于连接的字符或字符串。\n",
    "# iterable：一个可迭代对象，其元素都必须是字符串\n",
    "# 使用空格连接字符串列表  \n",
    "words = [\"Hello\", \"world\", \"from\", \"Python\"]  \n",
    "result = \" \".join(words)  \n",
    "print(result)  # 输出: Hello world from Python\n",
    "\n",
    "# 使用逗号加空格连接字符串列表  \n",
    "comma_separated = \", \".join(words)  \n",
    "print(comma_separated)  # 输出: Hello, world, from, Python  \n",
    "\n",
    "# 尝试连接非字符串元素会抛出TypeError  \n",
    "numbers = [1, 2, 3, 4]  \n",
    "try:  \n",
    "    print(\"-\".join(numbers))  \n",
    "except TypeError as e:  \n",
    "    print(e)  # 输出类似: sequence item 0: expected str instance, int found  \n",
    "  \n",
    "# 正确的做法是将非字符串元素转换为字符串  \n",
    "numbers_str = [str(n) for n in numbers]  \n",
    "result_numbers = \"-\".join(numbers_str)  \n",
    "print(result_numbers)  # 输出: 1-2-3-4"
   ]
  },
  {
   "cell_type": "code",
   "execution_count": 10,
   "metadata": {},
   "outputs": [
    {
     "name": "stdout",
     "output_type": "stream",
     "text": [
      "['Hello', 'world', 'from', 'Python']\n",
      "['apple', 'banana', 'cherry']\n",
      "['one', 'two', 'three:four:five']\n",
      "['noseparatorhere']\n"
     ]
    }
   ],
   "source": [
    "'''\n",
    "str.split() 是 Python 中的一个字符串方法，\n",
    "它用于将字符串分割成列表，默认情况下以空白字符\n",
    "（如空格、换行符 \\n、制表符 \\t 等）为分隔符，但也可以指定其他字符作为分隔符。\n",
    "'''\n",
    "# 语法 str.split(sep=None, maxsplit=-1)\n",
    "# sep：指定分隔符，默认为 None，表示任何空白字符都可以作为分隔符。\n",
    "# 如果指定了其他字符串，则只有该字符串作为分隔符。\n",
    "# maxsplit：可选参数，指定分割次数。如果指定了正整数 n，则最多分割成 n+1 个子字符串（即最多进行 n 次分割）。如果为 -1，则不限制分割次数（默认行为）。\n",
    "\n",
    "\n",
    "# 使用默认分隔符（空白字符）  \n",
    "text = \"Hello world from Python\"  \n",
    "words = text.split()  \n",
    "print(words)  # 输出: ['Hello', 'world', 'from', 'Python']  \n",
    "  \n",
    "# 指定分隔符  \n",
    "text = \"apple,banana,cherry\"  \n",
    "fruits = text.split(\",\")  \n",
    "print(fruits)  # 输出: ['apple', 'banana', 'cherry']  \n",
    "  \n",
    "# 指定分隔符和最大分割次数  \n",
    "text = \"one:two:three:four:five\"  \n",
    "parts = text.split(\":\", 2)  \n",
    "print(parts)  # 输出: ['one', 'two', 'three:four']  \n",
    "  \n",
    "# 如果字符串中没有分隔符  \n",
    "text = \"noseparatorhere\"  \n",
    "no_split = text.split(\",\")  \n",
    "print(no_split)  # 输出: ['noseparatorhere']"
   ]
  },
  {
   "cell_type": "code",
   "execution_count": 11,
   "metadata": {},
   "outputs": [
    {
     "name": "stdout",
     "output_type": "stream",
     "text": [
      "True\n",
      "False\n",
      "True\n",
      "True\n"
     ]
    }
   ],
   "source": [
    "'''\n",
    "str.startswith() 方法\n",
    "str.startswith() 方法用于检查字符串是否以指定的前缀开始，如果是，则返回 Tru,否则返回 False。\n",
    "语法:str.startswith(prefix[, start[, end]])\n",
    "- prefix:检查的前缀字符串。\n",
    "- start(可选):开始搜索的位置。默认为字符串的开始。\n",
    "- end(可选):结束搜索的位置（不包括该位置本身）。默认为字符串的末尾。\n",
    "'''\n",
    "# 检查字符串是否以 \"Hello\" 开始  \n",
    "text = \"Hello, world!\"  \n",
    "print(text.startswith(\"Hello\"))  # 输出: True  \n",
    "  \n",
    "# 检查字符串是否以 \"world\" 开始  \n",
    "print(text.startswith(\"world\"))  # 输出: False  \n",
    "  \n",
    "# 指定开始和结束位置  \n",
    "print(text.startswith(\"world\", 7))  # 输出: True，从索引 7 开始检查  \n",
    "  \n",
    "# 检查多个字符组成的前缀  \n",
    "print(text.startswith((\"Hello\", \"Hi\")))  # 输出: True，如果前缀是元组中的一个，则返回 True\n"
   ]
  }
 ],
 "metadata": {
  "kernelspec": {
   "display_name": "py39",
   "language": "python",
   "name": "python3"
  },
  "language_info": {
   "codemirror_mode": {
    "name": "ipython",
    "version": 3
   },
   "file_extension": ".py",
   "mimetype": "text/x-python",
   "name": "python",
   "nbconvert_exporter": "python",
   "pygments_lexer": "ipython3",
   "version": "3.9.13"
  },
  "orig_nbformat": 4
 },
 "nbformat": 4,
 "nbformat_minor": 2
}
