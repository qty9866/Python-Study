{
 "cells": [
  {
   "cell_type": "markdown",
   "metadata": {},
   "source": [
    "基本序列包括列表、元组、range\n",
    "\n",
    "- 元组和列表类似，但是**差别是创建后不可修改**\n",
    "\n",
    "- 二进制数据一会儿文本字符串食欲**特别定制**的附加序列\n",
    "\n",
    "- 所有的原地修改操作，元组都是不支持的，不可变序列中，append()、pop()、insert()等修改序列元素的函数均无法使用\n",
    "\n",
    "- 元组不可修改，执行效率高，列表的执行效率低"
   ]
  },
  {
   "cell_type": "code",
   "execution_count": 1,
   "metadata": {},
   "outputs": [],
   "source": [
    "# 创建一个空元组\n",
    "empty_tuple = ()\n",
    "\n",
    "# 创建一个包含多个元素的元组\n",
    "my_tuple = (1, 2, 3)\n",
    "\n",
    "# 创建一个包含不同类型元素的元组 \n",
    "mixed_tuple = (1, \"Hello\", 3.4)"
   ]
  },
  {
   "cell_type": "code",
   "execution_count": 3,
   "metadata": {},
   "outputs": [
    {
     "name": "stdout",
     "output_type": "stream",
     "text": [
      "1\n",
      "4\n"
     ]
    }
   ],
   "source": [
    "# 访问元素\n",
    "my_tuple = (1, 2, 3, 4, 5)\n",
    "print(my_tuple[0])  # 输出 1\n",
    "print(my_tuple[3])  # 输出 4"
   ]
  },
  {
   "cell_type": "code",
   "execution_count": 6,
   "metadata": {},
   "outputs": [
    {
     "name": "stdout",
     "output_type": "stream",
     "text": [
      "(2, 3)\n",
      "(1, 2)\n",
      "(4, 5)\n",
      "(1, 3, 5)\n"
     ]
    }
   ],
   "source": [
    "# 元组切片\n",
    "my_tuple = (1, 2, 3, 4, 5)\n",
    "print(my_tuple[1:3])  # 输出 (2, 3)\n",
    "print(my_tuple[:2])   # 输出 (1, 2)\n",
    "print(my_tuple[3:])   # 输出 (4, 5)\n",
    "print(my_tuple[::2])    # 输出 (1, 3, 5)"
   ]
  },
  {
   "cell_type": "code",
   "execution_count": null,
   "metadata": {},
   "outputs": [],
   "source": []
  }
 ],
 "metadata": {
  "kernelspec": {
   "display_name": "base",
   "language": "python",
   "name": "python3"
  },
  "language_info": {
   "codemirror_mode": {
    "name": "ipython",
    "version": 3
   },
   "file_extension": ".py",
   "mimetype": "text/x-python",
   "name": "python",
   "nbconvert_exporter": "python",
   "pygments_lexer": "ipython3",
   "version": "3.8.5"
  },
  "orig_nbformat": 4
 },
 "nbformat": 4,
 "nbformat_minor": 2
}
