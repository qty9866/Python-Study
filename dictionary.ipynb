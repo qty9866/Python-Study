{
 "cells": [
  {
   "cell_type": "markdown",
   "metadata": {},
   "source": [
    "## 字典：处理映射类型的数据\n",
    "\n",
    "在 Python 中，字典（dictionary）是一种无序的、可变的、键值对（key-value pair）的集合。字典使用大括号 {} 来表示，每个键值对用冒号 : 分隔，\n",
    "键与键值对之间用逗号 , 分隔。字典中的键必须是唯一的且是不可变的（例如，字符串、数字或元组），而值可以是任何数据类型。"
   ]
  },
  {
   "cell_type": "markdown",
   "metadata": {},
   "source": [
    "### 创建字典"
   ]
  },
  {
   "cell_type": "code",
   "execution_count": 5,
   "metadata": {},
   "outputs": [
    {
     "name": "stdout",
     "output_type": "stream",
     "text": [
      "{'name': 'Alice', 'age': 25, 'city': 'New York', 'list': {'c', 'a', 'b'}}\n",
      "{'name': 'Bob', 'age': 30, 'city': 'San Francisco'}\n",
      "{'name': 'Charlie', 'age': 35, 'city': 'Los Angeles'}\n"
     ]
    }
   ],
   "source": [
    "# 创建一个空字典\n",
    "empty_dict = {}\n",
    "\n",
    "# 创建一个包含多个键值对的字典\n",
    "my_dict = {'name': 'Alice', 'age': 25, 'city': 'New York','list':{'a','b','c'}}\n",
    "print(my_dict)\n",
    "\n",
    "# 使用 dict() 函数创建字典 --- 类型构造器\n",
    "another_dict = dict(name='Bob', age=30, city='San Francisco')\n",
    "print(another_dict)\n",
    "# 从键值对列表创建字典\n",
    "list_of_pairs = [('name', 'Charlie'), ('age', 35), ('city', 'Los Angeles')]\n",
    "dict_from_pairs = dict(list_of_pairs)\n",
    "print(dict_from_pairs)"
   ]
  },
  {
   "cell_type": "markdown",
   "metadata": {},
   "source": [
    "### 访问字典元素"
   ]
  },
  {
   "cell_type": "code",
   "execution_count": 21,
   "metadata": {},
   "outputs": [
    {
     "name": "stdout",
     "output_type": "stream",
     "text": [
      "Alice\n",
      "25\n",
      "dict_keys(['name', 'age', 'city'])\n",
      "dict_items([('name', 'Alice'), ('age', 25), ('city', 'New York')])\n",
      "dict_values(['Alice', 25, 'New York'])\n"
     ]
    }
   ],
   "source": [
    "# 可以通过键来访问字典中的值\n",
    "my_dict = {'name': 'Alice', 'age': 25, 'city': 'New York'}\n",
    "print(my_dict['name'])  # 输出：Alice\n",
    "print(my_dict['age'])   # 输出：25\n",
    "print(my_dict.keys())\n",
    "print(my_dict.items())\n",
    "print(my_dict.values())"
   ]
  },
  {
   "cell_type": "markdown",
   "metadata": {},
   "source": [
    "### 修改字典元素"
   ]
  },
  {
   "cell_type": "code",
   "execution_count": 7,
   "metadata": {},
   "outputs": [
    {
     "name": "stdout",
     "output_type": "stream",
     "text": [
      "{'name': 'Alice', 'age': 26, 'city': 'New York'}\n"
     ]
    }
   ],
   "source": [
    "# 可以通过键来修改字典中的值\n",
    "my_dict = {'name': 'Alice', 'age': 25, 'city': 'New York'}\n",
    "my_dict['age'] = 26\n",
    "print(my_dict)  # 输出：{'name': 'Alice', 'age': 26, 'city': 'New York'}"
   ]
  },
  {
   "cell_type": "markdown",
   "metadata": {},
   "source": [
    "### 添加新元素到字典\n",
    "\n",
    "可以直接添加新的键值对。"
   ]
  },
  {
   "cell_type": "code",
   "execution_count": 8,
   "metadata": {},
   "outputs": [
    {
     "name": "stdout",
     "output_type": "stream",
     "text": [
      "{'name': 'Alice', 'age': 25, 'city': 'New York'}\n"
     ]
    }
   ],
   "source": [
    "my_dict = {'name': 'Alice', 'age': 25}\n",
    "my_dict['city'] = 'New York'\n",
    "print(my_dict)  # 输出：{'name': 'Alice', 'age': 25, 'city': 'New York'}"
   ]
  },
  {
   "cell_type": "markdown",
   "metadata": {},
   "source": [
    "### 删除字典中的元素\n",
    "\n",
    "可以使用 del 语句或 pop() 方法删除元素。"
   ]
  },
  {
   "cell_type": "code",
   "execution_count": 9,
   "metadata": {},
   "outputs": [
    {
     "name": "stdout",
     "output_type": "stream",
     "text": [
      "{'name': 'Alice', 'city': 'New York'}\n",
      "New York\n",
      "{'name': 'Alice'}\n"
     ]
    }
   ],
   "source": [
    "my_dict = {'name': 'Alice', 'age': 25, 'city': 'New York'}\n",
    "del my_dict['age']\n",
    "print(my_dict)  # 输出：{'name': 'Alice', 'city': 'New York'}\n",
    "\n",
    "# 使用 pop() 方法删除元素并返回其值\n",
    "city = my_dict.pop('city')\n",
    "print(city)  # 输出：New York\n",
    "print(my_dict)  # 输出：{'name': 'Alice'}"
   ]
  },
  {
   "cell_type": "markdown",
   "metadata": {},
   "source": [
    "### 检查键是否在字典中\n",
    "可以使用 in 关键字检查键是否在字典中"
   ]
  },
  {
   "cell_type": "code",
   "execution_count": 11,
   "metadata": {},
   "outputs": [
    {
     "name": "stdout",
     "output_type": "stream",
     "text": [
      "True\n",
      "False\n"
     ]
    }
   ],
   "source": [
    "my_dict = {'name': 'Alice', 'age': 25}\n",
    "print('name' in my_dict)  # 输出：True\n",
    "print('Alice' in my_dict)  # 输出：False"
   ]
  },
  {
   "cell_type": "markdown",
   "metadata": {},
   "source": [
    "### 字典方法\n",
    "\n",
    "#### 1. get() 方法\n",
    "\n",
    "get() 方法返回指定键的值，如果键不在字典中，则返回默认值"
   ]
  },
  {
   "cell_type": "code",
   "execution_count": 17,
   "metadata": {},
   "outputs": [
    {
     "name": "stdout",
     "output_type": "stream",
     "text": [
      "Alice\n",
      "Not Found\n"
     ]
    }
   ],
   "source": [
    "my_dict = {'name': 'Alice', 'age': 25}\n",
    "print(my_dict.get('name'))       # 输出：Alice\n",
    "print(my_dict.get('city', 'Not Found') )  # 输出：Not Found"
   ]
  },
  {
   "cell_type": "markdown",
   "metadata": {},
   "source": [
    "### 2. update() 方法\n",
    "update() 方法可以使用另一个字典或键值对更新当前字典"
   ]
  },
  {
   "cell_type": "code",
   "execution_count": 27,
   "metadata": {},
   "outputs": [
    {
     "name": "stdout",
     "output_type": "stream",
     "text": [
      "{'name': 'Durant', 'age': 37, 'number': 6}\n"
     ]
    }
   ],
   "source": [
    "# my_dict = {'name': 'Alice', 'age': 25}\n",
    "# my_dict.update({'age': 26, 'city': 'New York'})\n",
    "player = {\"name\":\"James\",\"age\":37,\"number\":6}\n",
    "player.update({'name':\"Durant\"})\n",
    "print(player)  # 输出：{'name': 'Alice', 'age': 26, 'city': 'New York'}\n"
   ]
  },
  {
   "cell_type": "markdown",
   "metadata": {},
   "source": [
    "### 3.字典的遍历\n",
    "可以使用 for 循环遍历字典的键、值或键值对。"
   ]
  },
  {
   "cell_type": "code",
   "execution_count": 28,
   "metadata": {},
   "outputs": [
    {
     "name": "stdout",
     "output_type": "stream",
     "text": [
      "name\n",
      "age\n",
      "city\n",
      "Alice\n",
      "25\n",
      "New York\n",
      "name Alice\n",
      "age 25\n",
      "city New York\n"
     ]
    }
   ],
   "source": [
    "my_dict = {'name': 'Alice', 'age': 25, 'city': 'New York'}\n",
    "\n",
    "# 遍历键\n",
    "for key in my_dict:\n",
    "    print(key)\n",
    "\n",
    "# 遍历值\n",
    "for value in my_dict.values():\n",
    "    print(value)\n",
    "\n",
    "# 遍历键值对\n",
    "for key, value in my_dict.items():\n",
    "    print(key, value)\n"
   ]
  },
  {
   "cell_type": "markdown",
   "metadata": {},
   "source": [
    "### 4.嵌套字典\n",
    "字典可以嵌套，形成多层结构。"
   ]
  },
  {
   "cell_type": "code",
   "execution_count": 31,
   "metadata": {},
   "outputs": [
    {
     "name": "stdout",
     "output_type": "stream",
     "text": [
      "{'person1': {'name': 'Alice', 'age': 25}, 'person2': {'name': 'Bob', 'age': 30}}\n",
      "Alice\n",
      "30\n"
     ]
    }
   ],
   "source": [
    "nested_dict = {\n",
    "    'person1': {'name': 'Alice', 'age': 25},\n",
    "    'person2': {'name': 'Bob', 'age': 30}\n",
    "}\n",
    "print(nested_dict)\n",
    "print(nested_dict['person1']['name'])  # 输出：Alice\n",
    "print(nested_dict['person2']['age'])   # 输出：30"
   ]
  },
  {
   "cell_type": "markdown",
   "metadata": {},
   "source": [
    "### 5.字典的清空\n",
    "可以使用 clear() 方法清空字典中的所有元素。"
   ]
  },
  {
   "cell_type": "code",
   "execution_count": 32,
   "metadata": {},
   "outputs": [
    {
     "name": "stdout",
     "output_type": "stream",
     "text": [
      "{}\n"
     ]
    }
   ],
   "source": [
    "my_dict = {'name': 'Alice', 'age': 25, 'city': 'New York'}\n",
    "my_dict.clear()\n",
    "print(my_dict)  # 输出：{}"
   ]
  },
  {
   "cell_type": "markdown",
   "metadata": {},
   "source": [
    "### 6.字典的高级用法\n",
    "\n",
    "- 如果字典存在键key，返回对应的值\n",
    "- 如果不存在，插入default的键key，并返回default\n",
    "- 字典.setdefault(key[,default])\n",
    "\n",
    "`dict.setdefault(key, default=None)`\n",
    "\n",
    "- key：要查找的键。\n",
    "\n",
    "- default：如果键不存在时要设置的默认值。默认为 None"
   ]
  },
  {
   "cell_type": "code",
   "execution_count": 33,
   "metadata": {},
   "outputs": [
    {
     "name": "stdout",
     "output_type": "stream",
     "text": [
      "Alice\n",
      "{'name': 'Alice', 'age': 25}\n"
     ]
    }
   ],
   "source": [
    "# 示例 1：键存在于字典中\n",
    "my_dict = {'name': 'Alice', 'age': 25}\n",
    "value = my_dict.setdefault('name', 'Unknown')\n",
    "print(value)  # 输出：Alice\n",
    "print(my_dict)  # 输出：{'name': 'Alice', 'age': 25}"
   ]
  },
  {
   "cell_type": "code",
   "execution_count": 37,
   "metadata": {},
   "outputs": [
    {
     "name": "stdout",
     "output_type": "stream",
     "text": [
      "New York\n",
      "{'name': 'Alice', 'age': 25, 'city': 'New York'}\n",
      "Basketball player\n",
      "{'name': 'James', 'age': 37, 'number': 6, 'job': 'Unknown'}\n"
     ]
    }
   ],
   "source": [
    "# 示例 2：键不存在于字典中\n",
    "my_dict = {'name': 'Alice', 'age': 25}\n",
    "\n",
    "value = my_dict.setdefault('city', 'New York') \n",
    "print(value)  # 输出：New York\n",
    "print(my_dict)  # 输出：{'name': 'Alice', 'age': 25, 'city': 'New York'}\n",
    "\n",
    "\n",
    "player = {\"name\":\"James\",\"age\":37,\"number\":6}\n",
    "default_value = player.setdefault('job',\"Basketball player\")\n",
    "print(default_value)\n",
    "player['job'] = \"Unknown\"\n",
    "print(player)\n",
    " "
   ]
  },
  {
   "cell_type": "markdown",
   "metadata": {},
   "source": [
    "用新字典的“键”和“值”更新旧的字典，新字典的“键”和“值”优先"
   ]
  },
  {
   "cell_type": "markdown",
   "metadata": {},
   "source": [
    "#### 利用zip()函数合并两个列表为字典\n",
    "\n",
    "利用zip()函数合并两个列表为字典\n",
    "\n",
    "字典 = dict(zip(列表1,列表2))"
   ]
  },
  {
   "cell_type": "code",
   "execution_count": 1,
   "metadata": {},
   "outputs": [
    {
     "name": "stdout",
     "output_type": "stream",
     "text": [
      "{'name': 'Alice', 'age': 25, 'gender': 'Female'}\n"
     ]
    }
   ],
   "source": [
    "keys = ['name', 'age', 'gender']\n",
    "values = ['Alice', 25, 'Female']\n",
    "\n",
    "# 使用 zip() 函数将两个列表合并为一个字典\n",
    "merged_dict = dict(zip(keys, values))\n",
    "\n",
    "print(merged_dict)\n"
   ]
  },
  {
   "cell_type": "code",
   "execution_count": null,
   "metadata": {},
   "outputs": [],
   "source": []
  }
 ],
 "metadata": {
  "kernelspec": {
   "display_name": "base",
   "language": "python",
   "name": "python3"
  },
  "language_info": {
   "codemirror_mode": {
    "name": "ipython",
    "version": 3
   },
   "file_extension": ".py",
   "mimetype": "text/x-python",
   "name": "python",
   "nbconvert_exporter": "python",
   "pygments_lexer": "ipython3",
   "version": "3.8.5"
  },
  "orig_nbformat": 4
 },
 "nbformat": 4,
 "nbformat_minor": 2
}
