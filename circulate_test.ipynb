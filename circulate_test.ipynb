{
 "cells": [
  {
   "cell_type": "code",
   "execution_count": 2,
   "metadata": {},
   "outputs": [
    {
     "name": "stdout",
     "output_type": "stream",
     "text": [
      "输入的是偶数\n"
     ]
    }
   ],
   "source": [
    "# 简单示例\n",
    "num = int(input(\"Input a number:\"))\n",
    "if num%2 == 1:\n",
    "    print(\"输入的是奇数\")\n",
    "else:\n",
    "    print(\"输入的是偶数\")"
   ]
  },
  {
   "cell_type": "markdown",
   "metadata": {},
   "source": [
    "### **match**"
   ]
  },
  {
   "cell_type": "code",
   "execution_count": 4,
   "metadata": {},
   "outputs": [
    {
     "ename": "SyntaxError",
     "evalue": "invalid syntax (1858019336.py, line 2)",
     "output_type": "error",
     "traceback": [
      "\u001b[1;36m  Cell \u001b[1;32mIn[4], line 2\u001b[1;36m\u001b[0m\n\u001b[1;33m    match httpresponsestatus:\u001b[0m\n\u001b[1;37m          ^\u001b[0m\n\u001b[1;31mSyntaxError\u001b[0m\u001b[1;31m:\u001b[0m invalid syntax\n"
     ]
    }
   ],
   "source": [
    "http_response_status = input(\"status:\")\n",
    "match http_response_status:\n",
    "    case 400:\n",
    "        print(\"Bad request\")\n",
    "    case 404:\n",
    "        print(\"Not Found\")\n",
    "    case 418:\n",
    "        print(\"I am a teapot\")\n",
    "    case _:\n",
    "        print(\"Something wrong\")"
   ]
  },
  {
   "cell_type": "markdown",
   "metadata": {},
   "source": [
    "**match的模式组合**"
   ]
  },
  {
   "cell_type": "code",
   "execution_count": 5,
   "metadata": {},
   "outputs": [
    {
     "ename": "NameError",
     "evalue": "name 'match' is not defined",
     "output_type": "error",
     "traceback": [
      "\u001b[1;31m---------------------------------------------------------------------------\u001b[0m",
      "\u001b[1;31mNameError\u001b[0m                                 Traceback (most recent call last)",
      "Cell \u001b[1;32mIn[5], line 1\u001b[0m\n\u001b[1;32m----> 1\u001b[0m \u001b[39mmatch\u001b[39;49;00m \n",
      "\u001b[1;31mNameError\u001b[0m: name 'match' is not defined"
     ]
    }
   ],
   "source": [
    "match http_response_status:\n",
    "    case 400 | 403 | 404:\n",
    "        print(\"4XX Error\")\n",
    "    case 500 | 501 | 503:\n",
    "        print(\"5XX Error\")\n",
    "    case _:\n",
    "        print(\"Something wrong\") "
   ]
  },
  {
   "cell_type": "markdown",
   "metadata": {},
   "source": [
    "### while"
   ]
  },
  {
   "cell_type": "code",
   "execution_count": 6,
   "metadata": {},
   "outputs": [
    {
     "name": "stdout",
     "output_type": "stream",
     "text": [
      "number is 1\n",
      "number is 2\n",
      "number is 3\n"
     ]
    }
   ],
   "source": [
    "number = 1\n",
    "while number <= 3:\n",
    "    print(f\"number is {number}\")\n",
    "    number+=1\n"
   ]
  },
  {
   "cell_type": "code",
   "execution_count": 10,
   "metadata": {},
   "outputs": [
    {
     "name": "stdout",
     "output_type": "stream",
     "text": [
      "number is 1\n",
      "number is 2\n",
      "number is 4\n",
      "number is 5\n"
     ]
    }
   ],
   "source": [
    "num =1 \n",
    "while num<=5:\n",
    "    if num ==3:\n",
    "        num+=1\n",
    "        continue\n",
    "    print(f\"number is {num}\")\n",
    "    num +=1"
   ]
  },
  {
   "cell_type": "code",
   "execution_count": 12,
   "metadata": {},
   "outputs": [
    {
     "name": "stdout",
     "output_type": "stream",
     "text": [
      "1\n",
      "2\n",
      "3\n",
      "4\n"
     ]
    }
   ],
   "source": [
    "for tmp in range(1,5):\n",
    "    print(tmp)"
   ]
  },
  {
   "cell_type": "markdown",
   "metadata": {},
   "source": [
    "### for遍历字典"
   ]
  },
  {
   "cell_type": "code",
   "execution_count": 26,
   "metadata": {},
   "outputs": [
    {
     "name": "stdout",
     "output_type": "stream",
     "text": [
      "(0, ('name', 'James'))\n",
      "(1, ('age', 37))\n",
      "(2, ('number', 6))\n"
     ]
    }
   ],
   "source": [
    "player = {\"name\":\"James\",\"age\":37,\"number\":6}\n",
    "# for value in player.values():\n",
    "#     print(value)\n",
    "# for value in player.keys():\n",
    "#     print(value)\n",
    "for i in enumerate(player.items()):\n",
    "    print(i)\n"
   ]
  },
  {
   "cell_type": "code",
   "execution_count": 27,
   "metadata": {},
   "outputs": [
    {
     "data": {
      "text/plain": [
       "[9, 16]"
      ]
     },
     "execution_count": 27,
     "metadata": {},
     "output_type": "execute_result"
    }
   ],
   "source": [
    "list1 = [i*i for i in (1,2,3,4) if i>2]\n",
    "list1"
   ]
  },
  {
   "cell_type": "code",
   "execution_count": 3,
   "metadata": {},
   "outputs": [
    {
     "name": "stdout",
     "output_type": "stream",
     "text": [
      "[9, 36, 81]\n"
     ]
    }
   ],
   "source": [
    "list2 = [x*x for x in range(1,10) if x %3 == 0]\n",
    "print(list2)"
   ]
  },
  {
   "cell_type": "markdown",
   "metadata": {},
   "source": [
    "### 遍历二维数组"
   ]
  },
  {
   "cell_type": "code",
   "execution_count": 5,
   "metadata": {},
   "outputs": [
    {
     "name": "stdout",
     "output_type": "stream",
     "text": [
      "1\n",
      "2\n",
      "3\n",
      "4\n",
      "5\n",
      "6\n",
      "7\n",
      "8\n",
      "9\n"
     ]
    }
   ],
   "source": [
    "array = [\n",
    "    [1, 2, 3],\n",
    "    [4, 5, 6],\n",
    "    [7, 8, 9]\n",
    "]\n",
    "\n",
    "# 使用for循环遍历\n",
    "for row in array:\n",
    "    for element in row:\n",
    "        print(element)"
   ]
  },
  {
   "cell_type": "code",
   "execution_count": null,
   "metadata": {},
   "outputs": [],
   "source": [
    "# 使用索引去遍历\n",
    "for i in range(len(array)):\n",
    "    for j in range(len(array[i])):\n",
    "        print(array[i][j])"
   ]
  },
  {
   "cell_type": "markdown",
   "metadata": {},
   "source": [
    "**打印乘法口诀表**"
   ]
  },
  {
   "cell_type": "code",
   "execution_count": 1,
   "metadata": {},
   "outputs": [
    {
     "name": "stdout",
     "output_type": "stream",
     "text": [
      "1 * 1 = 1\t\n",
      "1 * 2 = 2\t2 * 2 = 4\t\n",
      "1 * 3 = 3\t2 * 3 = 6\t3 * 3 = 9\t\n",
      "1 * 4 = 4\t2 * 4 = 8\t3 * 4 = 12\t4 * 4 = 16\t\n",
      "1 * 5 = 5\t2 * 5 = 10\t3 * 5 = 15\t4 * 5 = 20\t5 * 5 = 25\t\n",
      "1 * 6 = 6\t2 * 6 = 12\t3 * 6 = 18\t4 * 6 = 24\t5 * 6 = 30\t6 * 6 = 36\t\n",
      "1 * 7 = 7\t2 * 7 = 14\t3 * 7 = 21\t4 * 7 = 28\t5 * 7 = 35\t6 * 7 = 42\t7 * 7 = 49\t\n",
      "1 * 8 = 8\t2 * 8 = 16\t3 * 8 = 24\t4 * 8 = 32\t5 * 8 = 40\t6 * 8 = 48\t7 * 8 = 56\t8 * 8 = 64\t\n",
      "1 * 9 = 9\t2 * 9 = 18\t3 * 9 = 27\t4 * 9 = 36\t5 * 9 = 45\t6 * 9 = 54\t7 * 9 = 63\t8 * 9 = 72\t9 * 9 = 81\t\n"
     ]
    }
   ],
   "source": [
    "for i in range(1, 10):\n",
    "    for j in range(1, i+1):\n",
    "        print(f\"{j} * {i} = {j * i}\", end=\"\\t\")\n",
    "    print()"
   ]
  },
  {
   "cell_type": "code",
   "execution_count": 1,
   "metadata": {},
   "outputs": [
    {
     "name": "stdout",
     "output_type": "stream",
     "text": [
      "1 * 1 = 1\t\n",
      "1 * 2 = 2\t2 * 2 = 4\t\n",
      "1 * 3 = 3\t2 * 3 = 6\t3 * 3 = 9\t\n",
      "1 * 4 = 4\t2 * 4 = 8\t3 * 4 = 12\t4 * 4 = 16\t\n",
      "1 * 5 = 5\t2 * 5 = 10\t3 * 5 = 15\t4 * 5 = 20\t5 * 5 = 25\t\n",
      "1 * 6 = 6\t2 * 6 = 12\t3 * 6 = 18\t4 * 6 = 24\t5 * 6 = 30\t6 * 6 = 36\t\n",
      "1 * 7 = 7\t2 * 7 = 14\t3 * 7 = 21\t4 * 7 = 28\t5 * 7 = 35\t6 * 7 = 42\t7 * 7 = 49\t\n",
      "1 * 8 = 8\t2 * 8 = 16\t3 * 8 = 24\t4 * 8 = 32\t5 * 8 = 40\t6 * 8 = 48\t7 * 8 = 56\t8 * 8 = 64\t\n",
      "1 * 9 = 9\t2 * 9 = 18\t3 * 9 = 27\t4 * 9 = 36\t5 * 9 = 45\t6 * 9 = 54\t7 * 9 = 63\t8 * 9 = 72\t9 * 9 = 81\t\n"
     ]
    }
   ],
   "source": [
    "for i in range(1,10):\n",
    "    for j in range(1,i+1):\n",
    "        print(f\"{j} * {i} = {j*i}\",end='\\t')\n",
    "    print()"
   ]
  },
  {
   "cell_type": "markdown",
   "metadata": {},
   "source": [
    "#### 飞机大战\n",
    "\n",
    "- 对象：我方飞机、敌机\n",
    "\n",
    "- 属性：坐标、生命值\n",
    "\n",
    "- 行为：移动、命中飞机（敌我双方）"
   ]
  },
  {
   "cell_type": "code",
   "execution_count": 1,
   "metadata": {},
   "outputs": [
    {
     "name": "stdout",
     "output_type": "stream",
     "text": [
      "['0', '0', '0']\n",
      "['0', 'x', '0']\n",
      "['0', '0', '0']\n",
      "\n",
      "你按了 上 键\n",
      "['0', 'x', '0']\n",
      "['0', '0', '0']\n",
      "['0', '0', '0']\n",
      "\n",
      "你按了 右 键\n",
      "['0', '0', 'x']\n",
      "['0', '0', '0']\n",
      "['0', '0', '0']\n",
      "\n",
      "你按了 左 键\n",
      "['0', 'x', '0']\n",
      "['0', '0', '0']\n",
      "['0', '0', '0']\n",
      "\n",
      "你按了 左 键\n",
      "['x', '0', '0']\n",
      "['0', '0', '0']\n",
      "['0', '0', '0']\n",
      "\n",
      "你按了 右 键\n",
      "['0', 'x', '0']\n",
      "['0', '0', '0']\n",
      "['0', '0', '0']\n",
      "\n",
      "你按了 q 键，程序将退出\n"
     ]
    }
   ],
   "source": [
    "from pynput.keyboard import Key, Listener, KeyCode\n",
    "\n",
    "background = [['0', '0', '0'],\n",
    "              ['0', 'x', '0'],\n",
    "              ['0', '0', '0']]\n",
    "\n",
    "def print_background():\n",
    "    for row in background:\n",
    "        print(row)\n",
    "    print()\n",
    "\n",
    "print_background()\n",
    "\n",
    "def on_press(key):\n",
    "    if key == KeyCode.from_char('w'):\n",
    "        print(\"你按了 上 键\")\n",
    "        for i in range(1, 3):  # 从第二行开始向上移动\n",
    "            for j in range(3):\n",
    "                if background[i][j] == 'x':\n",
    "                    background[i][j] = '0'\n",
    "                    background[i-1][j] = 'x'\n",
    "                    break\n",
    "\n",
    "    elif key == KeyCode.from_char('a'):\n",
    "        print(\"你按了 左 键\")\n",
    "        for i in range(3):\n",
    "            for j in range(1, 3):  # 从第二列开始向左移动\n",
    "                if background[i][j] == 'x':\n",
    "                    background[i][j] = '0'\n",
    "                    background[i][j-1] = 'x'\n",
    "                    break\n",
    "\n",
    "    elif key == KeyCode.from_char('s'):\n",
    "        print(\"你按了 下 键\")\n",
    "        for i in range(1, -1, -1):  # 从第二行开始向下移动\n",
    "            for j in range(3):\n",
    "                if background[i][j] == 'x':\n",
    "                    background[i][j] = '0'\n",
    "                    background[i+1][j] = 'x'\n",
    "                    break\n",
    "\n",
    "    elif key == KeyCode.from_char('d'):\n",
    "        print(\"你按了 右 键\")\n",
    "        for i in range(3):\n",
    "            for j in range(1, -1, -1):  # 从第二列开始向右移动\n",
    "                if background[i][j] == 'x':\n",
    "                    background[i][j] = '0'\n",
    "                    background[i][j+1] = 'x'\n",
    "                    break\n",
    "\n",
    "    elif key == KeyCode.from_char('q'):\n",
    "        print(\"你按了 q 键，程序将退出\")\n",
    "        return False  # 返回False以停止监听器并退出程序\n",
    "\n",
    "    print_background()\n",
    "\n",
    "with Listener(on_press=on_press) as listener:\n",
    "    listener.join()"
   ]
  }
 ],
 "metadata": {
  "kernelspec": {
   "display_name": "py39",
   "language": "python",
   "name": "python3"
  },
  "language_info": {
   "codemirror_mode": {
    "name": "ipython",
    "version": 3
   },
   "file_extension": ".py",
   "mimetype": "text/x-python",
   "name": "python",
   "nbconvert_exporter": "python",
   "pygments_lexer": "ipython3",
   "version": "3.8.5"
  },
  "orig_nbformat": 4
 },
 "nbformat": 4,
 "nbformat_minor": 2
}
